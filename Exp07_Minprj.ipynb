{
 "cells": [
  {
   "cell_type": "markdown",
   "id": "centered-transaction",
   "metadata": {},
   "source": [
    "# Minprj : sentiment analysis\n",
    "\n",
    ">date : 28 oct 2021<br>\n",
    "author : bae hueng myoung<br>\n",
    "e-mail : naroo135@gmail.com<br>\n",
    "p.s. : 추후 colab으로 이전하여야 함"
   ]
  },
  {
   "cell_type": "markdown",
   "id": "textile-reasoning",
   "metadata": {},
   "source": [
    "# overview"
   ]
  },
  {
   "cell_type": "markdown",
   "id": "resident-volleyball",
   "metadata": {},
   "source": [
    "## work(1) : data load"
   ]
  },
  {
   "cell_type": "code",
   "execution_count": 62,
   "id": "bright-stocks",
   "metadata": {},
   "outputs": [
    {
     "data": {
      "text/html": [
       "<div>\n",
       "<style scoped>\n",
       "    .dataframe tbody tr th:only-of-type {\n",
       "        vertical-align: middle;\n",
       "    }\n",
       "\n",
       "    .dataframe tbody tr th {\n",
       "        vertical-align: top;\n",
       "    }\n",
       "\n",
       "    .dataframe thead th {\n",
       "        text-align: right;\n",
       "    }\n",
       "</style>\n",
       "<table border=\"1\" class=\"dataframe\">\n",
       "  <thead>\n",
       "    <tr style=\"text-align: right;\">\n",
       "      <th></th>\n",
       "      <th>id</th>\n",
       "      <th>document</th>\n",
       "      <th>label</th>\n",
       "    </tr>\n",
       "  </thead>\n",
       "  <tbody>\n",
       "    <tr>\n",
       "      <th>0</th>\n",
       "      <td>9976970</td>\n",
       "      <td>아 더빙.. 진짜 짜증나네요 목소리</td>\n",
       "      <td>0</td>\n",
       "    </tr>\n",
       "    <tr>\n",
       "      <th>1</th>\n",
       "      <td>3819312</td>\n",
       "      <td>흠...포스터보고 초딩영화줄....오버연기조차 가볍지 않구나</td>\n",
       "      <td>1</td>\n",
       "    </tr>\n",
       "    <tr>\n",
       "      <th>2</th>\n",
       "      <td>10265843</td>\n",
       "      <td>너무재밓었다그래서보는것을추천한다</td>\n",
       "      <td>0</td>\n",
       "    </tr>\n",
       "    <tr>\n",
       "      <th>3</th>\n",
       "      <td>9045019</td>\n",
       "      <td>교도소 이야기구먼 ..솔직히 재미는 없다..평점 조정</td>\n",
       "      <td>0</td>\n",
       "    </tr>\n",
       "    <tr>\n",
       "      <th>4</th>\n",
       "      <td>6483659</td>\n",
       "      <td>사이몬페그의 익살스런 연기가 돋보였던 영화!스파이더맨에서 늙어보이기만 했던 커스틴 ...</td>\n",
       "      <td>1</td>\n",
       "    </tr>\n",
       "  </tbody>\n",
       "</table>\n",
       "</div>"
      ],
      "text/plain": [
       "         id                                           document  label\n",
       "0   9976970                                아 더빙.. 진짜 짜증나네요 목소리      0\n",
       "1   3819312                  흠...포스터보고 초딩영화줄....오버연기조차 가볍지 않구나      1\n",
       "2  10265843                                  너무재밓었다그래서보는것을추천한다      0\n",
       "3   9045019                      교도소 이야기구먼 ..솔직히 재미는 없다..평점 조정      0\n",
       "4   6483659  사이몬페그의 익살스런 연기가 돋보였던 영화!스파이더맨에서 늙어보이기만 했던 커스틴 ...      1"
      ]
     },
     "execution_count": 62,
     "metadata": {},
     "output_type": "execute_result"
    }
   ],
   "source": [
    "import pandas as pd\n",
    "import urllib.request\n",
    "%matplotlib inline\n",
    "import matplotlib.pyplot as plt\n",
    "import re\n",
    "from konlpy.tag import Okt\n",
    "from tensorflow import keras\n",
    "from tensorflow.keras.preprocessing.text import Tokenizer\n",
    "import numpy as np\n",
    "from tensorflow.keras.preprocessing.sequence import pad_sequences\n",
    "from collections import Counter\n",
    "\n",
    "# 데이터를 읽어봅시다. \n",
    "train_data = pd.read_table('~/aiffel/Exp07_sentiment_classification/data/ratings_train.txt')\n",
    "test_data = pd.read_table('~/aiffel/Exp07_sentiment_classification/data/ratings_test.txt')\n",
    "\n",
    "train_data.head()"
   ]
  },
  {
   "cell_type": "markdown",
   "id": "professional-breakfast",
   "metadata": {},
   "source": [
    "#### anlaysis : 네이버 댓글을 보면 정말 매우 짧은 댓글들과 깊이 있는 감상 분석이 없는 것을 확인할 수 있다.₩"
   ]
  },
  {
   "cell_type": "markdown",
   "id": "adopted-desire",
   "metadata": {},
   "source": [
    "## work(2) : preprocessing"
   ]
  },
  {
   "cell_type": "markdown",
   "id": "spiritual-apparel",
   "metadata": {},
   "source": [
    "### work(2)-1 : removing of missing data "
   ]
  },
  {
   "cell_type": "code",
   "execution_count": 63,
   "id": "regulation-comment",
   "metadata": {},
   "outputs": [
    {
     "name": "stdout",
     "output_type": "stream",
     "text": [
      "<class 'pandas.core.frame.DataFrame'>\n",
      "Int64Index: 149995 entries, 0 to 149999\n",
      "Data columns (total 3 columns):\n",
      " #   Column    Non-Null Count   Dtype \n",
      "---  ------    --------------   ----- \n",
      " 0   id        149995 non-null  int64 \n",
      " 1   document  149995 non-null  object\n",
      " 2   label     149995 non-null  int64 \n",
      "dtypes: int64(2), object(1)\n",
      "memory usage: 4.6+ MB\n"
     ]
    },
    {
     "data": {
      "text/plain": [
       "id          0\n",
       "document    0\n",
       "label       0\n",
       "dtype: int64"
      ]
     },
     "execution_count": 63,
     "metadata": {},
     "output_type": "execute_result"
    }
   ],
   "source": [
    "train_data.isnull().sum()\n",
    "train_data = train_data.dropna()\n",
    "train_data.info()\n",
    "train_data.isnull().sum()"
   ]
  },
  {
   "cell_type": "code",
   "execution_count": 64,
   "id": "realistic-parks",
   "metadata": {},
   "outputs": [
    {
     "data": {
      "text/plain": [
       "id          0\n",
       "document    0\n",
       "label       0\n",
       "dtype: int64"
      ]
     },
     "execution_count": 64,
     "metadata": {},
     "output_type": "execute_result"
    }
   ],
   "source": [
    "test_data.isnull().sum()\n",
    "test_data = test_data.dropna()\n",
    "test_data.isnull().sum()"
   ]
  },
  {
   "cell_type": "markdown",
   "id": "wrong-belarus",
   "metadata": {},
   "source": [
    "### work(2)-2 : toknizing && removing of not used words && word dict && split train and test"
   ]
  },
  {
   "cell_type": "code",
   "execution_count": 65,
   "id": "dress-survivor",
   "metadata": {},
   "outputs": [],
   "source": [
    "from konlpy.tag import Mecab\n",
    "tokenizer = Mecab()\n",
    "stopwords = ['의','가','이','은','들','는','좀','잘','걍','과','도','를','으로','자','에','와','한','하다']\n",
    "\n",
    "def load_data(train_data, test_data, num_words=10000):\n",
    "    train_data.drop_duplicates(subset=['document'], inplace=True)\n",
    "    train_data = train_data.dropna(how = 'any') \n",
    "    test_data.drop_duplicates(subset=['document'], inplace=True)\n",
    "    test_data = test_data.dropna(how = 'any') \n",
    "    \n",
    "    X_train = []\n",
    "    for sentence in train_data['document']:\n",
    "        temp_X = tokenizer.morphs(sentence) # 토큰화\n",
    "        temp_X = [word for word in temp_X if not word in stopwords] # 불용어 제거\n",
    "        X_train.append(temp_X)\n",
    "\n",
    "    X_test = []\n",
    "    for sentence in test_data['document']:\n",
    "        temp_X = tokenizer.morphs(sentence) # 토큰화\n",
    "        temp_X = [word for word in temp_X if not word in stopwords] # 불용어 제거\n",
    "        X_test.append(temp_X)\n",
    "    \n",
    "    words = np.concatenate(X_train).tolist()\n",
    "    counter = Counter(words)\n",
    "    counter = counter.most_common(10000-4)\n",
    "    vocab = ['', '', '', ''] + [key for key, _ in counter]\n",
    "    word_to_index = {word:index for index, word in enumerate(vocab)}\n",
    "        \n",
    "    def wordlist_to_indexlist(wordlist):\n",
    "        return [word_to_index[word] if word in word_to_index else word_to_index[''] for word in wordlist]\n",
    "        \n",
    "    X_train = list(map(wordlist_to_indexlist, X_train))\n",
    "    X_test = list(map(wordlist_to_indexlist, X_test))\n",
    "        \n",
    "    return X_train, np.array(list(train_data['label'])), X_test, np.array(list(test_data['label'])), word_to_index\n",
    "    \n",
    "X_train, y_train, X_test, y_test, word_to_index = load_data(train_data, test_data) "
   ]
  },
  {
   "cell_type": "code",
   "execution_count": 66,
   "id": "double-preview",
   "metadata": {},
   "outputs": [
    {
     "name": "stdout",
     "output_type": "stream",
     "text": [
      "X_train num :  146182\n",
      "X_test num :  49157\n",
      "y_train num :  146182\n",
      "y_test num :  49157\n"
     ]
    }
   ],
   "source": [
    "print('X_train num : ',len(X_train))\n",
    "print('X_test num : ',len(X_test))\n",
    "print('y_train num : ',len(y_train))\n",
    "print('y_test num : ',len(y_test))"
   ]
  },
  {
   "cell_type": "code",
   "execution_count": 67,
   "id": "serial-offense",
   "metadata": {},
   "outputs": [],
   "source": [
    "index_to_word = {index:word for word, index in word_to_index.items()}"
   ]
  },
  {
   "cell_type": "code",
   "execution_count": 68,
   "id": "becoming-radar",
   "metadata": {},
   "outputs": [
    {
     "data": {
      "text/plain": [
       "'.'"
      ]
     },
     "execution_count": 68,
     "metadata": {},
     "output_type": "execute_result"
    }
   ],
   "source": [
    "\n",
    "# 처음 몇 개 인덱스는 사전에 정의되어 있습니다\n",
    "word_to_index[\"<PAD>\"] = 0\n",
    "word_to_index[\"<BOS>\"] = 1\n",
    "word_to_index[\"<UNK>\"] = 2  # unknown\n",
    "word_to_index[\"<UNUSED>\"] = 3\n",
    "\n",
    "index_to_word[0] = \"<PAD>\"\n",
    "index_to_word[1] = \"<BOS>\"\n",
    "index_to_word[2] = \"<UNK>\"\n",
    "index_to_word[3] = \"<UNUSED>\"\n",
    "\n",
    "index_to_word = {index:word for word, index in word_to_index.items()}\n",
    "\n",
    "index_to_word[4]"
   ]
  },
  {
   "cell_type": "code",
   "execution_count": 92,
   "id": "comparative-joint",
   "metadata": {},
   "outputs": [
    {
     "data": {
      "text/plain": [
       "10000"
      ]
     },
     "execution_count": 92,
     "metadata": {},
     "output_type": "execute_result"
    }
   ],
   "source": [
    "len(index_to_word)\n",
    "vocab_size = len(index_to_word)\n",
    "vocab_size"
   ]
  },
  {
   "cell_type": "code",
   "execution_count": 70,
   "id": "approved-cattle",
   "metadata": {},
   "outputs": [],
   "source": [
    "# 문장 1개를 활용할 딕셔너리와 함께 주면, 단어 인덱스 리스트 벡터로 변환해 주는 함수입니다. \n",
    "# 단, 모든 문장은 <BOS>로 시작하는 것으로 합니다. \n",
    "def get_encoded_sentence(sentence, word_to_index):\n",
    "    return [word_to_index['<BOS>']]+[word_to_index[word] if word in word_to_index else word_to_index['<UNK>'] for word in sentence.split()]\n",
    "\n",
    "# 여러 개의 문장 리스트를 한꺼번에 단어 인덱스 리스트 벡터로 encode해 주는 함수입니다. \n",
    "def get_encoded_sentences(sentences, word_to_index):\n",
    "    return [get_encoded_sentence(sentence, word_to_index) for sentence in sentences]\n",
    "\n",
    "# 숫자 벡터로 encode된 문장을 원래대로 decode하는 함수입니다. \n",
    "def get_decoded_sentence(encoded_sentence, index_to_word):\n",
    "    return ' '.join(index_to_word[index] if index in index_to_word else '<UNK>' for index in encoded_sentence[1:])  #[1:]를 통해 <BOS>를 제외\n",
    "\n",
    "# 여러 개의 숫자 벡터로 encode된 문장을 한꺼번에 원래대로 decode하는 함수입니다. \n",
    "def get_decoded_sentences(encoded_sentences, index_to_word):\n",
    "    return [get_decoded_sentence(encoded_sentence, index_to_word) for encoded_sentence in encoded_sentences]"
   ]
  },
  {
   "cell_type": "code",
   "execution_count": 71,
   "id": "brave-grove",
   "metadata": {},
   "outputs": [
    {
     "data": {
      "text/plain": [
       "'더 빙 . . 진짜 짜증 나 네요 목소리'"
      ]
     },
     "execution_count": 71,
     "metadata": {},
     "output_type": "execute_result"
    }
   ],
   "source": [
    "encoded_sentence = X_train[0]\n",
    "get_decoded_sentence(encoded_sentence, index_to_word)"
   ]
  },
  {
   "cell_type": "markdown",
   "id": "pending-involvement",
   "metadata": {},
   "source": [
    "## work(2)-3 : sutiable for max length of sentence and padding"
   ]
  },
  {
   "cell_type": "code",
   "execution_count": 91,
   "id": "opposite-intermediate",
   "metadata": {},
   "outputs": [
    {
     "name": "stdout",
     "output_type": "stream",
     "text": [
      "문장길이 평균 :  41.0\n",
      "문장길이 최대 :  41\n",
      "문장길이 표준편차 :  0.0\n",
      "pad_sequences maxlen :  41\n",
      "전체 문장의 0.0%가 maxlen 설정값 이내에 포함됩니다. \n"
     ]
    }
   ],
   "source": [
    "total_data_text = list(X_train) + list(X_test)\n",
    "\n",
    "num_tokens = [len(tokens) for tokens in total_data_text]\n",
    "num_tokens = np.array(num_tokens)\n",
    "\n",
    "print('문장길이 평균 : ', np.mean(num_tokens))\n",
    "print('문장길이 최대 : ', np.max(num_tokens))\n",
    "print('문장길이 표준편차 : ', np.std(num_tokens))\n",
    "\n",
    "max_tokens = np.mean(num_tokens) + 2 * np.std(num_tokens)\n",
    "maxlen = int(max_tokens)\n",
    "print('pad_sequences maxlen : ', maxlen)\n",
    "print('전체 문장의 {}%가 maxlen 설정값 이내에 포함됩니다. '.format(np.sum(num_tokens < max_tokens) / len(num_tokens)))\n",
    "\n",
    "word_vector_dim = maxlen"
   ]
  },
  {
   "cell_type": "code",
   "execution_count": 93,
   "id": "interstate-north",
   "metadata": {},
   "outputs": [
    {
     "name": "stdout",
     "output_type": "stream",
     "text": [
      "(146182, 41)\n",
      "(49157, 41)\n"
     ]
    }
   ],
   "source": [
    "X_train = keras.preprocessing.sequence.pad_sequences(X_train,\n",
    "                                                        value=word_to_index[\"<PAD>\"],\n",
    "                                                        padding='pre', # 혹은 'pre'\n",
    "                                                        maxlen=maxlen)\n",
    "\n",
    "X_test = keras.preprocessing.sequence.pad_sequences(X_test,\n",
    "                                                       value=word_to_index[\"<PAD>\"],\n",
    "                                                       padding='pre', # 혹은 'pre'\n",
    "                                                       maxlen=maxlen)\n",
    "\n",
    "print(X_train.shape)\n",
    "print(X_test.shape)"
   ]
  },
  {
   "cell_type": "markdown",
   "id": "parliamentary-banking",
   "metadata": {},
   "source": [
    "#### analysis : LMS에서 배웠듯 문장의 중요 의미는 대체로 문장의 끝 부분에 위치할 가능성이 높습니다. 따라서 padding은 뒷부분보다 앞 부분에 하는 것이 적절ㅎ하다."
   ]
  },
  {
   "cell_type": "markdown",
   "id": "functioning-feedback",
   "metadata": {},
   "source": [
    "#### anlysis : train set의 갯수가 14만 정도이므로 20%를 validation set으로 구성"
   ]
  },
  {
   "cell_type": "code",
   "execution_count": 94,
   "id": "sitting-amino",
   "metadata": {},
   "outputs": [
    {
     "name": "stdout",
     "output_type": "stream",
     "text": [
      "valdation num : 43854\n",
      "x train num :  146182\n",
      "43854\n",
      "43854\n",
      "(102328, 41)\n",
      "(102328,)\n"
     ]
    }
   ],
   "source": [
    "val_num = int(0.3*len(X_train))\n",
    "print('valdation num :',val_num)\n",
    "print('x train num : ',len(X_train))\n",
    "\n",
    "# validation set 29236건 분리\n",
    "x_val = X_train[:val_num]   \n",
    "y_val = y_train[:val_num]\n",
    "\n",
    "print(len(x_val))\n",
    "print(len(y_val))\n",
    "# validation set을 제외한 나머지 \n",
    "partial_x_train = X_train[val_num:]  \n",
    "partial_y_train = y_train[val_num:]\n",
    "\n",
    "print(partial_x_train.shape)\n",
    "print(partial_y_train.shape)"
   ]
  },
  {
   "cell_type": "code",
   "execution_count": 95,
   "id": "variable-restriction",
   "metadata": {},
   "outputs": [
    {
     "data": {
      "text/plain": [
       "41"
      ]
     },
     "execution_count": 95,
     "metadata": {},
     "output_type": "execute_result"
    }
   ],
   "source": [
    "vocab_size\n",
    "word_vector_dim"
   ]
  },
  {
   "cell_type": "markdown",
   "id": "robust-likelihood",
   "metadata": {},
   "source": [
    "## work(3) : model design\n",
    "\n",
    "모델은 총 3가지의 모델을 이용하였다. CNN계열의 globalMaxpooling1D의 레이어만으로 구성된 모델, RNN계열의 LSTM레이어만으로 구성된 모델, "
   ]
  },
  {
   "cell_type": "markdown",
   "id": "saved-zimbabwe",
   "metadata": {},
   "source": [
    "### model (1) : globalMaxpolling1D"
   ]
  },
  {
   "cell_type": "code",
   "execution_count": 98,
   "id": "federal-divorce",
   "metadata": {},
   "outputs": [
    {
     "name": "stdout",
     "output_type": "stream",
     "text": [
      "Model: \"sequential_11\"\n",
      "_________________________________________________________________\n",
      "Layer (type)                 Output Shape              Param #   \n",
      "=================================================================\n",
      "embedding_11 (Embedding)     (None, None, 41)          410000    \n",
      "_________________________________________________________________\n",
      "global_max_pooling1d_7 (Glob (None, 41)                0         \n",
      "_________________________________________________________________\n",
      "dense_18 (Dense)             (None, 8)                 336       \n",
      "_________________________________________________________________\n",
      "dense_19 (Dense)             (None, 1)                 9         \n",
      "=================================================================\n",
      "Total params: 410,345\n",
      "Trainable params: 410,345\n",
      "Non-trainable params: 0\n",
      "_________________________________________________________________\n"
     ]
    }
   ],
   "source": [
    "\n",
    "# model 설계 - 딥러닝 모델 코드를 직접 작성해 주세요.\n",
    "model_max = keras.Sequential()\n",
    "model_max.add(keras.layers.Embedding(vocab_size, word_vector_dim, input_shape=(None,)))\n",
    "model_max.add(keras.layers.GlobalMaxPooling1D())\n",
    "model_max.add(keras.layers.Dense(8, activation='relu'))\n",
    "model_max.add(keras.layers.Dense(1, activation='sigmoid'))  # 최종 출력은 긍정/부정을 나타내는 1dim 입니다.\n",
    "\n",
    "\n",
    "model_max.summary()"
   ]
  },
  {
   "cell_type": "markdown",
   "id": "incident-communications",
   "metadata": {},
   "source": [
    "### model (2) : Convolutional1D model"
   ]
  },
  {
   "cell_type": "code",
   "execution_count": 111,
   "id": "under-beijing",
   "metadata": {},
   "outputs": [
    {
     "name": "stdout",
     "output_type": "stream",
     "text": [
      "Model: \"sequential_15\"\n",
      "_________________________________________________________________\n",
      "Layer (type)                 Output Shape              Param #   \n",
      "=================================================================\n",
      "embedding_15 (Embedding)     (None, None, 41)          410000    \n",
      "_________________________________________________________________\n",
      "conv1d_9 (Conv1D)            (None, None, 16)          4608      \n",
      "=================================================================\n",
      "Total params: 414,608\n",
      "Trainable params: 414,608\n",
      "Non-trainable params: 0\n",
      "_________________________________________________________________\n"
     ]
    }
   ],
   "source": [
    "model_conv = keras.Sequential()\n",
    "model_conv.add(keras.layers.Embedding(vocab_size, word_vector_dim, input_shape=(None,)))\n",
    "model_conv.add(keras.layers.Conv1D(16, 7, activation='relu'))\n",
    "model_max.add(keras.layers.Dense(8, activation='relu'))\n",
    "model_max.add(keras.layers.Dense(1, activation='sigmoid'))  # 최종 출력은 긍정/부정을 나타내는 1dim 입니다\n",
    "\n",
    "model_conv.summary()"
   ]
  },
  {
   "cell_type": "markdown",
   "id": "reverse-olive",
   "metadata": {},
   "source": [
    "### model (3) : combination of conv1D, maxpooling model"
   ]
  },
  {
   "cell_type": "code",
   "execution_count": 105,
   "id": "protecting-wheel",
   "metadata": {},
   "outputs": [
    {
     "name": "stdout",
     "output_type": "stream",
     "text": [
      "Model: \"sequential_13\"\n",
      "_________________________________________________________________\n",
      "Layer (type)                 Output Shape              Param #   \n",
      "=================================================================\n",
      "embedding_13 (Embedding)     (None, None, 41)          410000    \n",
      "_________________________________________________________________\n",
      "conv1d_7 (Conv1D)            (None, None, 16)          4608      \n",
      "_________________________________________________________________\n",
      "max_pooling1d_2 (MaxPooling1 (None, None, 16)          0         \n",
      "_________________________________________________________________\n",
      "conv1d_8 (Conv1D)            (None, None, 16)          1808      \n",
      "_________________________________________________________________\n",
      "global_max_pooling1d_8 (Glob (None, 16)                0         \n",
      "_________________________________________________________________\n",
      "dense_20 (Dense)             (None, 8)                 136       \n",
      "_________________________________________________________________\n",
      "dense_21 (Dense)             (None, 1)                 9         \n",
      "=================================================================\n",
      "Total params: 416,561\n",
      "Trainable params: 416,561\n",
      "Non-trainable params: 0\n",
      "_________________________________________________________________\n"
     ]
    }
   ],
   "source": [
    "# model 3: Conv1D and GlobalMaxPooling\n",
    "model_comb = keras.Sequential()\n",
    "model_comb.add(keras.layers.Embedding(vocab_size, word_vector_dim, input_shape=(None,)))\n",
    "model_comb.add(keras.layers.Conv1D(16, 7, activation='relu'))\n",
    "model_comb.add(keras.layers.MaxPooling1D(5))\n",
    "model_comb.add(keras.layers.Conv1D(16, 7, activation='relu'))\n",
    "model_comb.add(keras.layers.GlobalMaxPooling1D())\n",
    "model_comb.add(keras.layers.Dense(8, activation='relu'))\n",
    "model_comb.add(keras.layers.Dense(1, activation='sigmoid'))  # 최종 출력은 긍정/부정을 나타내는 1dim 입니다.\n",
    "\n",
    "model_comb.summary()"
   ]
  },
  {
   "cell_type": "markdown",
   "id": "spiritual-parker",
   "metadata": {},
   "source": [
    "### model (4) : RNN LSTM model"
   ]
  },
  {
   "cell_type": "code",
   "execution_count": 106,
   "id": "activated-artwork",
   "metadata": {
    "scrolled": true
   },
   "outputs": [
    {
     "name": "stdout",
     "output_type": "stream",
     "text": [
      "Model: \"sequential_14\"\n",
      "_________________________________________________________________\n",
      "Layer (type)                 Output Shape              Param #   \n",
      "=================================================================\n",
      "embedding_14 (Embedding)     (None, None, 41)          410000    \n",
      "_________________________________________________________________\n",
      "lstm_2 (LSTM)                (None, 8)                 1600      \n",
      "_________________________________________________________________\n",
      "dense_22 (Dense)             (None, 8)                 72        \n",
      "_________________________________________________________________\n",
      "dense_23 (Dense)             (None, 1)                 9         \n",
      "=================================================================\n",
      "Total params: 411,681\n",
      "Trainable params: 411,681\n",
      "Non-trainable params: 0\n",
      "_________________________________________________________________\n"
     ]
    }
   ],
   "source": [
    "\n",
    "\n",
    "model_RNN = keras.Sequential()\n",
    "model_RNN.add(keras.layers.Embedding(vocab_size, word_vector_dim, input_shape=(None,)))\n",
    "model_RNN.add(keras.layers.LSTM(8))   # 가장 널리 쓰이는 RNN인 LSTM 레이어를 사용하였습니다. 이때 LSTM state 벡터의 차원수는 8로 하였습니다. (변경 가능)\n",
    "model_RNN.add(keras.layers.Dense(8, activation='relu'))\n",
    "model_RNN.add(keras.layers.Dense(1, activation='sigmoid'))  # 최종 출력은 긍정/부정을 나타내는 1dim 입니다.\n",
    "\n",
    "model_RNN.summary()"
   ]
  },
  {
   "cell_type": "markdown",
   "id": "acquired-referral",
   "metadata": {},
   "source": [
    "## work(4) : model Trainning"
   ]
  },
  {
   "cell_type": "code",
   "execution_count": 101,
   "id": "latter-qualification",
   "metadata": {},
   "outputs": [],
   "source": [
    "def model_trainning(model,partial_x_train,partial_y_train,x_val, y_val):\n",
    "\n",
    "    model.compile(optimizer='adam',\n",
    "                  loss='binary_crossentropy',\n",
    "                  metrics=['accuracy'])\n",
    "              \n",
    "    epochs=20\n",
    "    history = model.fit(partial_x_train,\n",
    "                    partial_y_train,\n",
    "                    epochs=epochs,\n",
    "                    batch_size=512,\n",
    "                    validation_data=(x_val, y_val),\n",
    "                    verbose=1)\n",
    "    return history"
   ]
  },
  {
   "cell_type": "code",
   "execution_count": 108,
   "id": "employed-parade",
   "metadata": {},
   "outputs": [
    {
     "name": "stdout",
     "output_type": "stream",
     "text": [
      "Epoch 1/20\n",
      "200/200 [==============================] - 2s 9ms/step - loss: 0.0302 - accuracy: 0.9925 - val_loss: 0.9210 - val_accuracy: 0.8170\n",
      "Epoch 2/20\n",
      "200/200 [==============================] - 2s 8ms/step - loss: 0.0266 - accuracy: 0.9932 - val_loss: 0.9544 - val_accuracy: 0.8142\n",
      "Epoch 3/20\n",
      "200/200 [==============================] - 2s 8ms/step - loss: 0.0254 - accuracy: 0.9939 - val_loss: 0.9930 - val_accuracy: 0.8135\n",
      "Epoch 4/20\n",
      "200/200 [==============================] - 2s 8ms/step - loss: 0.0227 - accuracy: 0.9943 - val_loss: 1.0295 - val_accuracy: 0.8126\n",
      "Epoch 5/20\n",
      "200/200 [==============================] - 2s 8ms/step - loss: 0.0194 - accuracy: 0.9949 - val_loss: 1.0597 - val_accuracy: 0.8107\n",
      "Epoch 6/20\n",
      "200/200 [==============================] - 2s 8ms/step - loss: 0.0199 - accuracy: 0.9948 - val_loss: 1.0896 - val_accuracy: 0.8096\n",
      "Epoch 7/20\n",
      "200/200 [==============================] - 2s 8ms/step - loss: 0.0169 - accuracy: 0.9954 - val_loss: 1.1259 - val_accuracy: 0.8095\n",
      "Epoch 8/20\n",
      "200/200 [==============================] - 2s 8ms/step - loss: 0.0156 - accuracy: 0.9958 - val_loss: 1.1598 - val_accuracy: 0.8091\n",
      "Epoch 9/20\n",
      "200/200 [==============================] - 2s 8ms/step - loss: 0.0149 - accuracy: 0.9960 - val_loss: 1.1727 - val_accuracy: 0.8079\n",
      "Epoch 10/20\n",
      "200/200 [==============================] - 2s 9ms/step - loss: 0.0134 - accuracy: 0.9962 - val_loss: 1.2175 - val_accuracy: 0.8078\n",
      "Epoch 11/20\n",
      "200/200 [==============================] - 2s 8ms/step - loss: 0.0137 - accuracy: 0.9960 - val_loss: 1.2377 - val_accuracy: 0.8069\n",
      "Epoch 12/20\n",
      "200/200 [==============================] - 2s 9ms/step - loss: 0.0126 - accuracy: 0.9963 - val_loss: 1.2737 - val_accuracy: 0.8062\n",
      "Epoch 13/20\n",
      "200/200 [==============================] - 2s 9ms/step - loss: 0.0118 - accuracy: 0.9962 - val_loss: 1.2947 - val_accuracy: 0.8062\n",
      "Epoch 14/20\n",
      "200/200 [==============================] - 2s 9ms/step - loss: 0.0103 - accuracy: 0.9968 - val_loss: 1.3222 - val_accuracy: 0.8063\n",
      "Epoch 15/20\n",
      "200/200 [==============================] - 2s 9ms/step - loss: 0.0105 - accuracy: 0.9966 - val_loss: 1.3610 - val_accuracy: 0.8051\n",
      "Epoch 16/20\n",
      "200/200 [==============================] - 2s 9ms/step - loss: 0.0097 - accuracy: 0.9968 - val_loss: 1.3749 - val_accuracy: 0.8045\n",
      "Epoch 17/20\n",
      "200/200 [==============================] - 2s 9ms/step - loss: 0.0100 - accuracy: 0.9966 - val_loss: 1.4177 - val_accuracy: 0.8038\n",
      "Epoch 18/20\n",
      "200/200 [==============================] - 2s 9ms/step - loss: 0.0111 - accuracy: 0.9963 - val_loss: 1.4399 - val_accuracy: 0.8047\n",
      "Epoch 19/20\n",
      "200/200 [==============================] - 2s 9ms/step - loss: 0.0089 - accuracy: 0.9967 - val_loss: 1.4609 - val_accuracy: 0.8050\n",
      "Epoch 20/20\n",
      "200/200 [==============================] - 2s 9ms/step - loss: 0.0088 - accuracy: 0.9966 - val_loss: 1.4857 - val_accuracy: 0.8020\n"
     ]
    }
   ],
   "source": [
    "history_max = model_trainning(model_max,partial_x_train,partial_y_train,x_val, y_val)"
   ]
  },
  {
   "cell_type": "code",
   "execution_count": 112,
   "id": "cardiovascular-auction",
   "metadata": {},
   "outputs": [
    {
     "name": "stdout",
     "output_type": "stream",
     "text": [
      "Epoch 1/20\n"
     ]
    },
    {
     "ename": "InvalidArgumentError",
     "evalue": "2 root error(s) found.\n  (0) Invalid argument:  Incompatible shapes: [512,1] vs. [512,35,16]\n\t [[node binary_crossentropy/mul (defined at <ipython-input-101-61349d148d49>:13) ]]\n\t [[gradient_tape/sequential_15/embedding_15/embedding_lookup/Reshape/_38]]\n  (1) Invalid argument:  Incompatible shapes: [512,1] vs. [512,35,16]\n\t [[node binary_crossentropy/mul (defined at <ipython-input-101-61349d148d49>:13) ]]\n0 successful operations.\n0 derived errors ignored. [Op:__inference_train_function_72028]\n\nFunction call stack:\ntrain_function -> train_function\n",
     "output_type": "error",
     "traceback": [
      "\u001b[0;31m---------------------------------------------------------------------------\u001b[0m",
      "\u001b[0;31mInvalidArgumentError\u001b[0m                      Traceback (most recent call last)",
      "\u001b[0;32m<ipython-input-112-bcaa4d91f245>\u001b[0m in \u001b[0;36m<module>\u001b[0;34m\u001b[0m\n\u001b[0;32m----> 1\u001b[0;31m \u001b[0mhistory_conv\u001b[0m \u001b[0;34m=\u001b[0m \u001b[0mmodel_trainning\u001b[0m\u001b[0;34m(\u001b[0m\u001b[0mmodel_conv\u001b[0m\u001b[0;34m,\u001b[0m\u001b[0mpartial_x_train\u001b[0m\u001b[0;34m,\u001b[0m\u001b[0mpartial_y_train\u001b[0m\u001b[0;34m,\u001b[0m\u001b[0mx_val\u001b[0m\u001b[0;34m,\u001b[0m \u001b[0my_val\u001b[0m\u001b[0;34m)\u001b[0m\u001b[0;34m\u001b[0m\u001b[0;34m\u001b[0m\u001b[0m\n\u001b[0m",
      "\u001b[0;32m<ipython-input-101-61349d148d49>\u001b[0m in \u001b[0;36mmodel_trainning\u001b[0;34m(model, partial_x_train, partial_y_train, x_val, y_val)\u001b[0m\n\u001b[1;32m     11\u001b[0m                     \u001b[0mbatch_size\u001b[0m\u001b[0;34m=\u001b[0m\u001b[0;36m512\u001b[0m\u001b[0;34m,\u001b[0m\u001b[0;34m\u001b[0m\u001b[0;34m\u001b[0m\u001b[0m\n\u001b[1;32m     12\u001b[0m                     \u001b[0mvalidation_data\u001b[0m\u001b[0;34m=\u001b[0m\u001b[0;34m(\u001b[0m\u001b[0mx_val\u001b[0m\u001b[0;34m,\u001b[0m \u001b[0my_val\u001b[0m\u001b[0;34m)\u001b[0m\u001b[0;34m,\u001b[0m\u001b[0;34m\u001b[0m\u001b[0;34m\u001b[0m\u001b[0m\n\u001b[0;32m---> 13\u001b[0;31m                     verbose=1)\n\u001b[0m\u001b[1;32m     14\u001b[0m     \u001b[0;32mreturn\u001b[0m \u001b[0mhistory\u001b[0m\u001b[0;34m\u001b[0m\u001b[0;34m\u001b[0m\u001b[0m\n",
      "\u001b[0;32m/opt/conda/lib/python3.7/site-packages/tensorflow/python/keras/engine/training.py\u001b[0m in \u001b[0;36mfit\u001b[0;34m(self, x, y, batch_size, epochs, verbose, callbacks, validation_split, validation_data, shuffle, class_weight, sample_weight, initial_epoch, steps_per_epoch, validation_steps, validation_batch_size, validation_freq, max_queue_size, workers, use_multiprocessing)\u001b[0m\n\u001b[1;32m   1098\u001b[0m                 _r=1):\n\u001b[1;32m   1099\u001b[0m               \u001b[0mcallbacks\u001b[0m\u001b[0;34m.\u001b[0m\u001b[0mon_train_batch_begin\u001b[0m\u001b[0;34m(\u001b[0m\u001b[0mstep\u001b[0m\u001b[0;34m)\u001b[0m\u001b[0;34m\u001b[0m\u001b[0;34m\u001b[0m\u001b[0m\n\u001b[0;32m-> 1100\u001b[0;31m               \u001b[0mtmp_logs\u001b[0m \u001b[0;34m=\u001b[0m \u001b[0mself\u001b[0m\u001b[0;34m.\u001b[0m\u001b[0mtrain_function\u001b[0m\u001b[0;34m(\u001b[0m\u001b[0miterator\u001b[0m\u001b[0;34m)\u001b[0m\u001b[0;34m\u001b[0m\u001b[0;34m\u001b[0m\u001b[0m\n\u001b[0m\u001b[1;32m   1101\u001b[0m               \u001b[0;32mif\u001b[0m \u001b[0mdata_handler\u001b[0m\u001b[0;34m.\u001b[0m\u001b[0mshould_sync\u001b[0m\u001b[0;34m:\u001b[0m\u001b[0;34m\u001b[0m\u001b[0;34m\u001b[0m\u001b[0m\n\u001b[1;32m   1102\u001b[0m                 \u001b[0mcontext\u001b[0m\u001b[0;34m.\u001b[0m\u001b[0masync_wait\u001b[0m\u001b[0;34m(\u001b[0m\u001b[0;34m)\u001b[0m\u001b[0;34m\u001b[0m\u001b[0;34m\u001b[0m\u001b[0m\n",
      "\u001b[0;32m/opt/conda/lib/python3.7/site-packages/tensorflow/python/eager/def_function.py\u001b[0m in \u001b[0;36m__call__\u001b[0;34m(self, *args, **kwds)\u001b[0m\n\u001b[1;32m    826\u001b[0m     \u001b[0mtracing_count\u001b[0m \u001b[0;34m=\u001b[0m \u001b[0mself\u001b[0m\u001b[0;34m.\u001b[0m\u001b[0mexperimental_get_tracing_count\u001b[0m\u001b[0;34m(\u001b[0m\u001b[0;34m)\u001b[0m\u001b[0;34m\u001b[0m\u001b[0;34m\u001b[0m\u001b[0m\n\u001b[1;32m    827\u001b[0m     \u001b[0;32mwith\u001b[0m \u001b[0mtrace\u001b[0m\u001b[0;34m.\u001b[0m\u001b[0mTrace\u001b[0m\u001b[0;34m(\u001b[0m\u001b[0mself\u001b[0m\u001b[0;34m.\u001b[0m\u001b[0m_name\u001b[0m\u001b[0;34m)\u001b[0m \u001b[0;32mas\u001b[0m \u001b[0mtm\u001b[0m\u001b[0;34m:\u001b[0m\u001b[0;34m\u001b[0m\u001b[0;34m\u001b[0m\u001b[0m\n\u001b[0;32m--> 828\u001b[0;31m       \u001b[0mresult\u001b[0m \u001b[0;34m=\u001b[0m \u001b[0mself\u001b[0m\u001b[0;34m.\u001b[0m\u001b[0m_call\u001b[0m\u001b[0;34m(\u001b[0m\u001b[0;34m*\u001b[0m\u001b[0margs\u001b[0m\u001b[0;34m,\u001b[0m \u001b[0;34m**\u001b[0m\u001b[0mkwds\u001b[0m\u001b[0;34m)\u001b[0m\u001b[0;34m\u001b[0m\u001b[0;34m\u001b[0m\u001b[0m\n\u001b[0m\u001b[1;32m    829\u001b[0m       \u001b[0mcompiler\u001b[0m \u001b[0;34m=\u001b[0m \u001b[0;34m\"xla\"\u001b[0m \u001b[0;32mif\u001b[0m \u001b[0mself\u001b[0m\u001b[0;34m.\u001b[0m\u001b[0m_experimental_compile\u001b[0m \u001b[0;32melse\u001b[0m \u001b[0;34m\"nonXla\"\u001b[0m\u001b[0;34m\u001b[0m\u001b[0;34m\u001b[0m\u001b[0m\n\u001b[1;32m    830\u001b[0m       \u001b[0mnew_tracing_count\u001b[0m \u001b[0;34m=\u001b[0m \u001b[0mself\u001b[0m\u001b[0;34m.\u001b[0m\u001b[0mexperimental_get_tracing_count\u001b[0m\u001b[0;34m(\u001b[0m\u001b[0;34m)\u001b[0m\u001b[0;34m\u001b[0m\u001b[0;34m\u001b[0m\u001b[0m\n",
      "\u001b[0;32m/opt/conda/lib/python3.7/site-packages/tensorflow/python/eager/def_function.py\u001b[0m in \u001b[0;36m_call\u001b[0;34m(self, *args, **kwds)\u001b[0m\n\u001b[1;32m    886\u001b[0m         \u001b[0;31m# Lifting succeeded, so variables are initialized and we can run the\u001b[0m\u001b[0;34m\u001b[0m\u001b[0;34m\u001b[0m\u001b[0;34m\u001b[0m\u001b[0m\n\u001b[1;32m    887\u001b[0m         \u001b[0;31m# stateless function.\u001b[0m\u001b[0;34m\u001b[0m\u001b[0;34m\u001b[0m\u001b[0;34m\u001b[0m\u001b[0m\n\u001b[0;32m--> 888\u001b[0;31m         \u001b[0;32mreturn\u001b[0m \u001b[0mself\u001b[0m\u001b[0;34m.\u001b[0m\u001b[0m_stateless_fn\u001b[0m\u001b[0;34m(\u001b[0m\u001b[0;34m*\u001b[0m\u001b[0margs\u001b[0m\u001b[0;34m,\u001b[0m \u001b[0;34m**\u001b[0m\u001b[0mkwds\u001b[0m\u001b[0;34m)\u001b[0m\u001b[0;34m\u001b[0m\u001b[0;34m\u001b[0m\u001b[0m\n\u001b[0m\u001b[1;32m    889\u001b[0m     \u001b[0;32melse\u001b[0m\u001b[0;34m:\u001b[0m\u001b[0;34m\u001b[0m\u001b[0;34m\u001b[0m\u001b[0m\n\u001b[1;32m    890\u001b[0m       \u001b[0m_\u001b[0m\u001b[0;34m,\u001b[0m \u001b[0m_\u001b[0m\u001b[0;34m,\u001b[0m \u001b[0m_\u001b[0m\u001b[0;34m,\u001b[0m \u001b[0mfiltered_flat_args\u001b[0m \u001b[0;34m=\u001b[0m\u001b[0;31m \u001b[0m\u001b[0;31m\\\u001b[0m\u001b[0;34m\u001b[0m\u001b[0;34m\u001b[0m\u001b[0m\n",
      "\u001b[0;32m/opt/conda/lib/python3.7/site-packages/tensorflow/python/eager/function.py\u001b[0m in \u001b[0;36m__call__\u001b[0;34m(self, *args, **kwargs)\u001b[0m\n\u001b[1;32m   2941\u001b[0m        filtered_flat_args) = self._maybe_define_function(args, kwargs)\n\u001b[1;32m   2942\u001b[0m     return graph_function._call_flat(\n\u001b[0;32m-> 2943\u001b[0;31m         filtered_flat_args, captured_inputs=graph_function.captured_inputs)  # pylint: disable=protected-access\n\u001b[0m\u001b[1;32m   2944\u001b[0m \u001b[0;34m\u001b[0m\u001b[0m\n\u001b[1;32m   2945\u001b[0m   \u001b[0;34m@\u001b[0m\u001b[0mproperty\u001b[0m\u001b[0;34m\u001b[0m\u001b[0;34m\u001b[0m\u001b[0m\n",
      "\u001b[0;32m/opt/conda/lib/python3.7/site-packages/tensorflow/python/eager/function.py\u001b[0m in \u001b[0;36m_call_flat\u001b[0;34m(self, args, captured_inputs, cancellation_manager)\u001b[0m\n\u001b[1;32m   1917\u001b[0m       \u001b[0;31m# No tape is watching; skip to running the function.\u001b[0m\u001b[0;34m\u001b[0m\u001b[0;34m\u001b[0m\u001b[0;34m\u001b[0m\u001b[0m\n\u001b[1;32m   1918\u001b[0m       return self._build_call_outputs(self._inference_function.call(\n\u001b[0;32m-> 1919\u001b[0;31m           ctx, args, cancellation_manager=cancellation_manager))\n\u001b[0m\u001b[1;32m   1920\u001b[0m     forward_backward = self._select_forward_and_backward_functions(\n\u001b[1;32m   1921\u001b[0m         \u001b[0margs\u001b[0m\u001b[0;34m,\u001b[0m\u001b[0;34m\u001b[0m\u001b[0;34m\u001b[0m\u001b[0m\n",
      "\u001b[0;32m/opt/conda/lib/python3.7/site-packages/tensorflow/python/eager/function.py\u001b[0m in \u001b[0;36mcall\u001b[0;34m(self, ctx, args, cancellation_manager)\u001b[0m\n\u001b[1;32m    558\u001b[0m               \u001b[0minputs\u001b[0m\u001b[0;34m=\u001b[0m\u001b[0margs\u001b[0m\u001b[0;34m,\u001b[0m\u001b[0;34m\u001b[0m\u001b[0;34m\u001b[0m\u001b[0m\n\u001b[1;32m    559\u001b[0m               \u001b[0mattrs\u001b[0m\u001b[0;34m=\u001b[0m\u001b[0mattrs\u001b[0m\u001b[0;34m,\u001b[0m\u001b[0;34m\u001b[0m\u001b[0;34m\u001b[0m\u001b[0m\n\u001b[0;32m--> 560\u001b[0;31m               ctx=ctx)\n\u001b[0m\u001b[1;32m    561\u001b[0m         \u001b[0;32melse\u001b[0m\u001b[0;34m:\u001b[0m\u001b[0;34m\u001b[0m\u001b[0;34m\u001b[0m\u001b[0m\n\u001b[1;32m    562\u001b[0m           outputs = execute.execute_with_cancellation(\n",
      "\u001b[0;32m/opt/conda/lib/python3.7/site-packages/tensorflow/python/eager/execute.py\u001b[0m in \u001b[0;36mquick_execute\u001b[0;34m(op_name, num_outputs, inputs, attrs, ctx, name)\u001b[0m\n\u001b[1;32m     58\u001b[0m     \u001b[0mctx\u001b[0m\u001b[0;34m.\u001b[0m\u001b[0mensure_initialized\u001b[0m\u001b[0;34m(\u001b[0m\u001b[0;34m)\u001b[0m\u001b[0;34m\u001b[0m\u001b[0;34m\u001b[0m\u001b[0m\n\u001b[1;32m     59\u001b[0m     tensors = pywrap_tfe.TFE_Py_Execute(ctx._handle, device_name, op_name,\n\u001b[0;32m---> 60\u001b[0;31m                                         inputs, attrs, num_outputs)\n\u001b[0m\u001b[1;32m     61\u001b[0m   \u001b[0;32mexcept\u001b[0m \u001b[0mcore\u001b[0m\u001b[0;34m.\u001b[0m\u001b[0m_NotOkStatusException\u001b[0m \u001b[0;32mas\u001b[0m \u001b[0me\u001b[0m\u001b[0;34m:\u001b[0m\u001b[0;34m\u001b[0m\u001b[0;34m\u001b[0m\u001b[0m\n\u001b[1;32m     62\u001b[0m     \u001b[0;32mif\u001b[0m \u001b[0mname\u001b[0m \u001b[0;32mis\u001b[0m \u001b[0;32mnot\u001b[0m \u001b[0;32mNone\u001b[0m\u001b[0;34m:\u001b[0m\u001b[0;34m\u001b[0m\u001b[0;34m\u001b[0m\u001b[0m\n",
      "\u001b[0;31mInvalidArgumentError\u001b[0m: 2 root error(s) found.\n  (0) Invalid argument:  Incompatible shapes: [512,1] vs. [512,35,16]\n\t [[node binary_crossentropy/mul (defined at <ipython-input-101-61349d148d49>:13) ]]\n\t [[gradient_tape/sequential_15/embedding_15/embedding_lookup/Reshape/_38]]\n  (1) Invalid argument:  Incompatible shapes: [512,1] vs. [512,35,16]\n\t [[node binary_crossentropy/mul (defined at <ipython-input-101-61349d148d49>:13) ]]\n0 successful operations.\n0 derived errors ignored. [Op:__inference_train_function_72028]\n\nFunction call stack:\ntrain_function -> train_function\n"
     ]
    }
   ],
   "source": [
    "history_conv = model_trainning(model_conv,partial_x_train,partial_y_train,x_val, y_val)"
   ]
  },
  {
   "cell_type": "code",
   "execution_count": 110,
   "id": "inclusive-thread",
   "metadata": {},
   "outputs": [
    {
     "name": "stdout",
     "output_type": "stream",
     "text": [
      "Epoch 1/20\n",
      "200/200 [==============================] - 10s 35ms/step - loss: 0.5983 - accuracy: 0.6636 - val_loss: 0.3535 - val_accuracy: 0.8461\n",
      "Epoch 2/20\n",
      "200/200 [==============================] - 2s 12ms/step - loss: 0.3205 - accuracy: 0.8650 - val_loss: 0.3353 - val_accuracy: 0.8530\n",
      "Epoch 3/20\n",
      "200/200 [==============================] - 2s 12ms/step - loss: 0.2685 - accuracy: 0.8916 - val_loss: 0.3356 - val_accuracy: 0.8551\n",
      "Epoch 4/20\n",
      "200/200 [==============================] - 2s 12ms/step - loss: 0.2213 - accuracy: 0.9149 - val_loss: 0.3579 - val_accuracy: 0.8500\n",
      "Epoch 5/20\n",
      "200/200 [==============================] - 2s 11ms/step - loss: 0.1683 - accuracy: 0.9408 - val_loss: 0.3890 - val_accuracy: 0.8476\n",
      "Epoch 6/20\n",
      "200/200 [==============================] - 2s 11ms/step - loss: 0.1223 - accuracy: 0.9599 - val_loss: 0.4416 - val_accuracy: 0.8453\n",
      "Epoch 7/20\n",
      "200/200 [==============================] - 2s 11ms/step - loss: 0.0865 - accuracy: 0.9737 - val_loss: 0.5016 - val_accuracy: 0.8390\n",
      "Epoch 8/20\n",
      "200/200 [==============================] - 2s 11ms/step - loss: 0.0646 - accuracy: 0.9825 - val_loss: 0.5465 - val_accuracy: 0.8384\n",
      "Epoch 9/20\n",
      "200/200 [==============================] - 2s 11ms/step - loss: 0.0478 - accuracy: 0.9872 - val_loss: 0.6065 - val_accuracy: 0.8355\n",
      "Epoch 10/20\n",
      "200/200 [==============================] - 2s 11ms/step - loss: 0.0378 - accuracy: 0.9899 - val_loss: 0.6553 - val_accuracy: 0.8323\n",
      "Epoch 11/20\n",
      "200/200 [==============================] - 2s 11ms/step - loss: 0.0296 - accuracy: 0.9917 - val_loss: 0.7068 - val_accuracy: 0.8322\n",
      "Epoch 12/20\n",
      "200/200 [==============================] - 2s 11ms/step - loss: 0.0242 - accuracy: 0.9930 - val_loss: 0.7950 - val_accuracy: 0.8291\n",
      "Epoch 13/20\n",
      "200/200 [==============================] - 2s 11ms/step - loss: 0.0227 - accuracy: 0.9936 - val_loss: 0.8295 - val_accuracy: 0.8307\n",
      "Epoch 14/20\n",
      "200/200 [==============================] - 2s 11ms/step - loss: 0.0173 - accuracy: 0.9951 - val_loss: 0.8758 - val_accuracy: 0.8312\n",
      "Epoch 15/20\n",
      "200/200 [==============================] - 2s 11ms/step - loss: 0.0160 - accuracy: 0.9953 - val_loss: 0.9322 - val_accuracy: 0.8242\n",
      "Epoch 16/20\n",
      "200/200 [==============================] - 2s 11ms/step - loss: 0.0162 - accuracy: 0.9948 - val_loss: 0.9679 - val_accuracy: 0.8254\n",
      "Epoch 17/20\n",
      "200/200 [==============================] - 2s 11ms/step - loss: 0.0148 - accuracy: 0.9955 - val_loss: 1.0219 - val_accuracy: 0.8253\n",
      "Epoch 18/20\n",
      "200/200 [==============================] - 2s 11ms/step - loss: 0.0144 - accuracy: 0.9954 - val_loss: 1.0325 - val_accuracy: 0.8258\n",
      "Epoch 19/20\n",
      "200/200 [==============================] - 2s 11ms/step - loss: 0.0204 - accuracy: 0.9929 - val_loss: 1.0073 - val_accuracy: 0.8228\n",
      "Epoch 20/20\n",
      "200/200 [==============================] - 2s 11ms/step - loss: 0.0247 - accuracy: 0.9910 - val_loss: 1.0315 - val_accuracy: 0.8238\n"
     ]
    }
   ],
   "source": [
    "history_comb = model_trainning(model_comb,partial_x_train,partial_y_train,x_val, y_val)\n"
   ]
  },
  {
   "cell_type": "code",
   "execution_count": 113,
   "id": "unknown-dylan",
   "metadata": {},
   "outputs": [
    {
     "name": "stdout",
     "output_type": "stream",
     "text": [
      "Epoch 1/20\n",
      "200/200 [==============================] - 5s 15ms/step - loss: 0.6030 - accuracy: 0.7014 - val_loss: 0.3713 - val_accuracy: 0.8397\n",
      "Epoch 2/20\n",
      "200/200 [==============================] - 3s 13ms/step - loss: 0.3432 - accuracy: 0.8572 - val_loss: 0.3517 - val_accuracy: 0.8476\n",
      "Epoch 3/20\n",
      "200/200 [==============================] - 3s 13ms/step - loss: 0.3083 - accuracy: 0.8748 - val_loss: 0.3491 - val_accuracy: 0.8504\n",
      "Epoch 4/20\n",
      "200/200 [==============================] - 3s 13ms/step - loss: 0.2965 - accuracy: 0.8806 - val_loss: 0.3529 - val_accuracy: 0.8489\n",
      "Epoch 5/20\n",
      "200/200 [==============================] - 3s 13ms/step - loss: 0.2821 - accuracy: 0.8868 - val_loss: 0.3565 - val_accuracy: 0.8500\n",
      "Epoch 6/20\n",
      "200/200 [==============================] - 3s 13ms/step - loss: 0.2690 - accuracy: 0.8925 - val_loss: 0.3582 - val_accuracy: 0.8495\n",
      "Epoch 7/20\n",
      "200/200 [==============================] - 3s 13ms/step - loss: 0.2522 - accuracy: 0.9021 - val_loss: 0.3627 - val_accuracy: 0.8498\n",
      "Epoch 8/20\n",
      "200/200 [==============================] - 3s 13ms/step - loss: 0.2412 - accuracy: 0.9069 - val_loss: 0.3743 - val_accuracy: 0.8473\n",
      "Epoch 9/20\n",
      "200/200 [==============================] - 3s 13ms/step - loss: 0.2297 - accuracy: 0.9114 - val_loss: 0.3786 - val_accuracy: 0.8473\n",
      "Epoch 10/20\n",
      "200/200 [==============================] - 3s 13ms/step - loss: 0.2176 - accuracy: 0.9172 - val_loss: 0.3897 - val_accuracy: 0.8462\n",
      "Epoch 11/20\n",
      "200/200 [==============================] - 3s 13ms/step - loss: 0.2104 - accuracy: 0.9206 - val_loss: 0.4059 - val_accuracy: 0.8450\n",
      "Epoch 12/20\n",
      "200/200 [==============================] - 3s 13ms/step - loss: 0.2004 - accuracy: 0.9258 - val_loss: 0.4183 - val_accuracy: 0.8456\n",
      "Epoch 13/20\n",
      "200/200 [==============================] - 3s 13ms/step - loss: 0.1844 - accuracy: 0.9319 - val_loss: 0.4281 - val_accuracy: 0.8450\n",
      "Epoch 14/20\n",
      "200/200 [==============================] - 3s 13ms/step - loss: 0.1801 - accuracy: 0.9331 - val_loss: 0.4340 - val_accuracy: 0.8441\n",
      "Epoch 15/20\n",
      "200/200 [==============================] - 3s 13ms/step - loss: 0.1722 - accuracy: 0.9380 - val_loss: 0.4604 - val_accuracy: 0.8435\n",
      "Epoch 16/20\n",
      "200/200 [==============================] - 3s 13ms/step - loss: 0.1635 - accuracy: 0.9407 - val_loss: 0.4656 - val_accuracy: 0.8424\n",
      "Epoch 17/20\n",
      "200/200 [==============================] - 3s 13ms/step - loss: 0.1600 - accuracy: 0.9420 - val_loss: 0.4714 - val_accuracy: 0.8407\n",
      "Epoch 18/20\n",
      "200/200 [==============================] - 3s 13ms/step - loss: 0.1497 - accuracy: 0.9462 - val_loss: 0.5010 - val_accuracy: 0.8427\n",
      "Epoch 19/20\n",
      "200/200 [==============================] - 3s 13ms/step - loss: 0.1440 - accuracy: 0.9499 - val_loss: 0.5132 - val_accuracy: 0.8405\n",
      "Epoch 20/20\n",
      "200/200 [==============================] - 3s 13ms/step - loss: 0.1380 - accuracy: 0.9527 - val_loss: 0.5318 - val_accuracy: 0.8404\n"
     ]
    }
   ],
   "source": [
    "history_RNN = model_trainning(model_RNN,partial_x_train,partial_y_train,x_val, y_val)"
   ]
  },
  {
   "cell_type": "markdown",
   "id": "efficient-perception",
   "metadata": {},
   "source": [
    "## work(5) : model evaluation"
   ]
  },
  {
   "cell_type": "code",
   "execution_count": 118,
   "id": "federal-scholarship",
   "metadata": {},
   "outputs": [],
   "source": [
    "def model_evaluation(model):\n",
    "    results = model.evaluate(X_test,  y_test, verbose=2)\n",
    "    return results"
   ]
  },
  {
   "cell_type": "code",
   "execution_count": 121,
   "id": "eleven-craps",
   "metadata": {},
   "outputs": [
    {
     "name": "stdout",
     "output_type": "stream",
     "text": [
      "1537/1537 - 2s - loss: 1.5034 - accuracy: 0.7993\n",
      "model max :  [1.5034122467041016, 0.799275815486908]\n",
      "1537/1537 - 3s - loss: 1.0722 - accuracy: 0.8161\n",
      "model comb :  [1.0721900463104248, 0.8161401152610779]\n",
      "1537/1537 - 5s - loss: 0.5445 - accuracy: 0.8364\n",
      "model RNN :  [0.5445128083229065, 0.8363813757896423]\n"
     ]
    }
   ],
   "source": [
    "print('model max : ',model_evaluation(model_max))\n",
    "#print('model max : ',model_evaluation(model_conv))\n",
    "print('model comb : ',model_evaluation(model_comb))\n",
    "print('model RNN : ',model_evaluation(model_RNN))"
   ]
  },
  {
   "cell_type": "code",
   "execution_count": 130,
   "id": "addressed-handbook",
   "metadata": {},
   "outputs": [],
   "source": [
    "def graphic(history,model_name):\n",
    "    history_dict = history.history\n",
    "    print(history_dict.keys()) # epoch에 따른 그래프를 그려볼 수 있는 항목들\n",
    "    \n",
    "    acc = history_dict['accuracy']\n",
    "    val_acc = history_dict['val_accuracy']\n",
    "    loss = history_dict['loss']\n",
    "    val_loss = history_dict['val_loss']\n",
    "\n",
    "    epochs = range(1, len(acc) + 1)\n",
    "\n",
    "# \"bo\"는 \"파란색 점\"입니다\n",
    "    plt.plot(epochs, loss, 'bo', label='Training loss')\n",
    "# b는 \"파란 실선\"입니다\n",
    "    plt.plot(epochs, val_loss, 'b', label='Validation loss'+model_name)\n",
    "    plt.title('Training and validation loss '+model_name)\n",
    "    plt.xlabel('Epochs')\n",
    "    plt.ylabel('Loss')\n",
    "    plt.legend()\n",
    "\n",
    "    plt.show()\n",
    "\n",
    "    \n",
    "    plt.clf()   # 그림을 초기화합니다\n",
    "\n",
    "    plt.plot(epochs, acc, 'bo', label='Training acc')\n",
    "    plt.plot(epochs, val_acc, 'b', label='Validation acc')\n",
    "    plt.title('Training and validation accuracy '+ model_name)\n",
    "    plt.xlabel('Epochs')\n",
    "    plt.ylabel('Accuracy')\n",
    "    plt.legend()\n",
    "\n",
    "    plt.show()"
   ]
  },
  {
   "cell_type": "code",
   "execution_count": 131,
   "id": "official-bandwidth",
   "metadata": {},
   "outputs": [
    {
     "name": "stdout",
     "output_type": "stream",
     "text": [
      "dict_keys(['loss', 'accuracy', 'val_loss', 'val_accuracy'])\n"
     ]
    },
    {
     "data": {
      "image/png": "[encoded data removed]",
      "text/plain": [
       "<Figure size 432x288 with 1 Axes>"
      ]
     },
     "metadata": {
      "needs_background": "light"
     },
     "output_type": "display_data"
    },
    {
     "data": {
      "image/png": "[encoded data removed]",
      "text/plain": [
       "<Figure size 432x288 with 1 Axes>"
      ]
     },
     "metadata": {
      "needs_background": "light"
     },
     "output_type": "display_data"
    },
    {
     "name": "stdout",
     "output_type": "stream",
     "text": [
      "dict_keys(['loss', 'accuracy', 'val_loss', 'val_accuracy'])\n"
     ]
    },
    {
     "data": {
      "image/png": "[encoded data removed]",
      "text/plain": [
       "<Figure size 432x288 with 1 Axes>"
      ]
     },
     "metadata": {
      "needs_background": "light"
     },
     "output_type": "display_data"
    },
    {
     "data": {
      "image/png": "[encoded data removed]",
      "text/plain": [
       "<Figure size 432x288 with 1 Axes>"
      ]
     },
     "metadata": {
      "needs_background": "light"
     },
     "output_type": "display_data"
    },
    {
     "name": "stdout",
     "output_type": "stream",
     "text": [
      "dict_keys(['loss', 'accuracy', 'val_loss', 'val_accuracy'])\n"
     ]
    },
    {
     "data": {
      "image/png": "[encoded data removed]",
      "text/plain": [
       "<Figure size 432x288 with 1 Axes>"
      ]
     },
     "metadata": {
      "needs_background": "light"
     },
     "output_type": "display_data"
    },
    {
     "data": {
      "image/png": "[encoded data removed]",
      "text/plain": [
       "<Figure size 432x288 with 1 Axes>"
      ]
     },
     "metadata": {
      "needs_background": "light"
     },
     "output_type": "display_data"
    }
   ],
   "source": [
    "graphic(history_max,'max model')\n",
    "#graphic(history_conv)\n",
    "graphic(history_comb,'comb model')\n",
    "graphic(history_RNN,'RNN model')"
   ]
  },
  {
   "cell_type": "markdown",
   "id": "crucial-copying",
   "metadata": {},
   "source": [
    "#### anlysis : \n",
    "각 모델의 자체 임베딩 레이어를 활용하였을 때 오버피팅이 심하게 나타남을 찾아볼 수 있다. maxpooling모델은 trainning acc가 epoch횟수가 적은 시작부분붙터 정확도가 거의 1에 가깝고 validation과의 눈에 띄는 유격을 보여준다. 다른 모델들도 전반적으로 trainning과 validation의 acc의 유격을 보여주며 전반적으로 0.25의 큰 폭의 결과를 보여주고 있다. 이는 네이버 댓글의 단어의 데이터의 양이 매우 적어 충분한 학습을 하지 못했기 때문임을 추측해볼 수 있다. "
   ]
  },
  {
   "cell_type": "markdown",
   "id": "textile-newsletter",
   "metadata": {},
   "source": [
    "## work(6) : trainning embedding model anlaysis"
   ]
  },
  {
   "cell_type": "code",
   "execution_count": 132,
   "id": "norwegian-costs",
   "metadata": {},
   "outputs": [],
   "source": [
    "def model_embedding_layer(model):\n",
    "    embedding_layer = model.layers[0]\n",
    "    weights = embedding_layer.get_weights()[0]\n",
    "    print(weights.shape)    # shape: (vocab_size, embedding_dim)"
   ]
  },
  {
   "cell_type": "code",
   "execution_count": 133,
   "id": "bearing-truth",
   "metadata": {},
   "outputs": [
    {
     "name": "stdout",
     "output_type": "stream",
     "text": [
      "(10000, 41)\n",
      "(10000, 41)\n",
      "(10000, 41)\n"
     ]
    }
   ],
   "source": [
    "model_embedding_layer(model_max)\n",
    "model_embedding_layer(model_comb)\n",
    "model_embedding_layer(model_RNN)"
   ]
  },
  {
   "cell_type": "markdown",
   "id": "thrown-wheat",
   "metadata": {},
   "source": [
    "#### anlysis : 3가지 모델은 각각 vocab size=10000개와 dim=41으로 학습된 모습을 보여주고 있다. 이 결과는 각 모델이 네이버 댓글의 데이터셋으로 학습을 하였고 단어들의 최적의 embedding값을 계산한 결과이다. 각 모델이 학습한 임베딩 모델의 결과를 저장할 것이다."
   ]
  },
  {
   "cell_type": "code",
   "execution_count": 138,
   "id": "muslim-peoples",
   "metadata": {},
   "outputs": [],
   "source": [
    "import os\n",
    "from gensim.models.keyedvectors import Word2VecKeyedVectors\n",
    "\n",
    "def Embedding_save(model,model_name):\n",
    "\n",
    "    word2vec_file_path = os.getenv('HOME')+'/aiffel/Exp07_sentiment_classification/data/'+model_name+'.txt'\n",
    "    f = open(word2vec_file_path, 'w')\n",
    "    f.write('{} {}\\n'.format(vocab_size-4, word_vector_dim))  # 몇개의 벡터를 얼마 사이즈로 기재할지 타이틀을 씁니다.\n",
    "\n",
    "# 단어 개수(에서 특수문자 4개는 제외하고)만큼의 워드 벡터를 파일에 기록합니다. \n",
    "    vectors = model.get_weights()[0]\n",
    "    for i in range(4,vocab_size):\n",
    "        f.write('{} {}\\n'.format(index_to_word[i], ' '.join(map(str, list(vectors[i, :])))))\n",
    "    f.close()\n",
    "    \n",
    "    return word2vec_file_path"
   ]
  },
  {
   "cell_type": "code",
   "execution_count": 143,
   "id": "hundred-assumption",
   "metadata": {},
   "outputs": [],
   "source": [
    "def similary_print(word2vec_file_path,enter_word):\n",
    "    word_vectors = Word2VecKeyedVectors.load_word2vec_format(word2vec_file_path, binary=False)\n",
    "    similar_word = word_vectors.similar_by_word(enter_word)\n",
    "    print(similar_word)"
   ]
  },
  {
   "cell_type": "code",
   "execution_count": 146,
   "id": "private-vegetable",
   "metadata": {},
   "outputs": [
    {
     "name": "stdout",
     "output_type": "stream",
     "text": [
      "[('비디오', 0.829888105392456), ('극', 0.8183358907699585), ('교과서', 0.7987573742866516), ('은지', 0.7951825261116028), ('됨', 0.792548418045044), ('아름다웠', 0.7907727360725403), ('롭', 0.7907196879386902), ('임팩트', 0.7892364859580994), ('아프', 0.7874290943145752), ('담', 0.7858216166496277)]\n"
     ]
    }
   ],
   "source": [
    "enter_word = '사랑'\n",
    "similary_print(Embedding_save(model_max, 'model_max'),enter_word)\n"
   ]
  },
  {
   "cell_type": "code",
   "execution_count": 147,
   "id": "neural-chair",
   "metadata": {},
   "outputs": [
    {
     "name": "stdout",
     "output_type": "stream",
     "text": [
      "[('걸림', 0.6758061647415161), ('펼쳐지', 0.6698821783065796), ('브래드피트', 0.6545907258987427), ('유동근', 0.653839647769928), ('김남길', 0.651508092880249), ('에여', 0.6511815786361694), ('실감', 0.6396427154541016), ('신성', 0.6377354264259338), ('돌이켜', 0.6371643543243408), ('색다르', 0.631227970123291)]\n"
     ]
    }
   ],
   "source": [
    "similary_print(Embedding_save(model_comb, 'model_comb'),enter_word)\n"
   ]
  },
  {
   "cell_type": "code",
   "execution_count": 148,
   "id": "elegant-romance",
   "metadata": {},
   "outputs": [
    {
     "name": "stdout",
     "output_type": "stream",
     "text": [
      "[('소장', 0.9183174967765808), ('훈훈', 0.9146788716316223), ('명작', 0.9142971038818359), ('웨스턴', 0.9107950329780579), ('게이트', 0.910603404045105), ('끝장', 0.9090138673782349), ('눈물', 0.9044554233551025), ('깊', 0.9031424522399902), ('여운', 0.9015349745750427), ('빠져들', 0.9012458324432373)]\n"
     ]
    }
   ],
   "source": [
    "similary_print(Embedding_save(model_RNN, 'model_RNN'),enter_word)"
   ]
  },
  {
   "cell_type": "markdown",
   "id": "destroyed-underground",
   "metadata": {},
   "source": [
    "    #### analysis : '사랑'이라는 키워드를 입력하였을 때 3가지 모델 모두 유사성이 높은 단어들을 출력하였고 각기 다른 결과들을 보여주었다. 자체 학습된 임베딩의 결과는 그리 성능이 좋아보이지 않는다. 사랑과 관련없는 비디오,교과서,김남길 등의 단어들이 리스트에 보이기 때문이다. 이는 학습한 데이터는 네이버의 댓글의 한계성 때문이다. 제한된 단어의 학습은 단어의 유사성이 실제 사람이 쓰는 방대한 양에 대한 학습에 의한 유사성보다 퀄리티가 떨어지는 것은 당연하다. 이러한 임베딩 성능의 한계는 댓글의 내용이 부정인지 긍정인지에 대한 성능에 영향을 미친다. 위에서 살펴본 것과 같이 3가지 모델 모두 validation과 trainning의 accuracy와 loss가 유격되어 학습이 성공적으로 이루어졌다고 보기 어려웠다. 따라서 학습의 성공률을 높이기 위해서 방대한 한글 사전이 담긴 ko.bin의 임베딩 모델을 활용하여 얼마나 성능 개선이 이루어졌는지 알아볼 것이다."
   ]
  },
  {
   "cell_type": "markdown",
   "id": "photographic-calvin",
   "metadata": {},
   "source": [
    "## work (7) getting of ko.bin embbeding model\n",
    "\n",
    "gensim version이 높을 때 한글 임베딩을 불러올 때 utf-8의 오류가 발생한다.<br>\n",
    "이러한 문제는 버전의 특성 문제이며 다운 그레이드를 통해 이를 해결하였다.<br>\n",
    "`pip install --upgrade gensim==3.8.3` 이 커맨드는 gensim의 다운그레이드버전을 다시 설치해주는 명령어이다."
   ]
  },
  {
   "cell_type": "code",
   "execution_count": 172,
   "id": "atmospheric-exception",
   "metadata": {},
   "outputs": [
    {
     "name": "stderr",
     "output_type": "stream",
     "text": [
      "/opt/conda/lib/python3.7/site-packages/ipykernel_launcher.py:6: DeprecationWarning: Call to deprecated `__getitem__` (Method will be removed in 4.0.0, use self.wv.__getitem__() instead).\n",
      "  \n"
     ]
    },
    {
     "data": {
      "text/plain": [
       "array([-9.37647521e-01,  3.84321630e-01,  2.66711020e+00, -4.90441829e-01,\n",
       "       -1.87378454e+00,  7.46136725e-01,  2.06848055e-01,  1.17018402e+00,\n",
       "        1.76071718e-01,  3.52754295e-01,  3.27339917e-01,  6.24713361e-01,\n",
       "        4.98253882e-01, -2.54079252e-01,  1.86370641e-01,  5.02261400e-01,\n",
       "        5.70066161e-02,  1.03963447e+00,  4.08005528e-02,  8.49552810e-01,\n",
       "       -1.51971027e-01,  1.52919903e-01,  4.23378617e-01,  1.98788300e-01,\n",
       "        1.94235623e+00, -2.86525309e-01,  4.72732335e-01, -2.14849854e+00,\n",
       "       -1.26080573e+00, -1.48370254e+00, -7.26968274e-02, -5.65377235e-01,\n",
       "       -1.09561288e+00, -8.93630147e-01,  8.22069585e-01, -4.43008691e-01,\n",
       "        6.42822444e-01, -1.16659820e+00,  1.46968305e+00,  3.69109273e+00,\n",
       "       -3.84803802e-01,  1.05108881e+00,  2.13611469e-01, -1.45143092e+00,\n",
       "        5.02505243e-01,  7.05544576e-02,  1.83592427e+00, -6.79975271e-01,\n",
       "        3.81043881e-01,  2.86220014e-01, -3.55438769e-01,  4.01191115e-02,\n",
       "       -2.18128219e-01,  3.57237577e-01, -1.05672097e+00, -8.56383026e-01,\n",
       "        5.01443893e-02, -2.10841298e+00, -6.82635069e-01,  1.37372768e+00,\n",
       "        1.74011505e+00,  1.65592742e+00,  7.43449867e-01,  4.73941445e-01,\n",
       "       -2.09605321e-01,  5.07387042e-01, -2.66904473e-01,  2.30762553e+00,\n",
       "        9.43911314e-01, -1.79484308e-01, -4.74636853e-01,  7.43123651e-01,\n",
       "       -9.69141006e-01,  1.07185638e+00,  3.04059267e-01, -1.41069520e+00,\n",
       "        1.43436384e+00, -2.18488291e-01,  6.40276611e-01, -3.76534551e-01,\n",
       "       -6.39843464e-01, -2.19815850e+00,  8.00515041e-02,  2.39617094e-01,\n",
       "       -1.59744668e+00, -8.24819148e-01, -7.78260410e-01, -6.11576736e-01,\n",
       "       -1.71091521e+00, -7.09024251e-01, -7.56663457e-02, -2.93283558e+00,\n",
       "        1.12008333e+00, -8.73616338e-01, -7.98623204e-01,  1.20740056e+00,\n",
       "       -1.33505988e+00, -5.31908154e-01,  7.32603371e-01, -2.94772536e-01,\n",
       "       -7.41957307e-01,  2.66695172e-01, -2.54117668e-01, -3.16498488e-01,\n",
       "       -2.53271103e+00,  1.23276532e+00, -4.65467095e-01,  1.95745409e-01,\n",
       "       -3.06052828e+00, -1.72411609e+00, -8.69291723e-02, -1.01631391e+00,\n",
       "        1.35540202e-01, -4.10389930e-01,  5.17696977e-01, -9.21352744e-01,\n",
       "       -1.43972948e-01,  7.12622166e-01, -4.84758556e-01, -7.36877918e-01,\n",
       "        1.28522015e+00,  5.96004665e-01, -6.96237683e-01, -2.06515026e+00,\n",
       "        2.99054921e-01,  2.57981348e+00,  1.24758929e-01, -1.16612986e-01,\n",
       "        1.17532516e+00,  6.59984529e-01,  8.64598632e-01, -9.77743983e-01,\n",
       "        1.24154842e+00,  1.51769269e+00,  1.87096596e+00, -1.69182909e+00,\n",
       "        3.77366602e-01, -3.15761328e-01,  1.07878089e+00, -8.38944614e-01,\n",
       "        1.57406020e+00,  1.26247287e+00,  1.60818672e+00,  4.89655405e-01,\n",
       "       -9.56196666e-01, -1.16354994e-01, -1.04483902e+00, -1.01968300e+00,\n",
       "        4.62032884e-01,  2.91770607e-01, -1.56372988e+00, -2.25391793e+00,\n",
       "       -1.67305291e+00,  6.22754216e-01, -4.63402152e-01, -1.44247961e+00,\n",
       "        7.61960328e-01,  1.52420437e+00, -1.10674810e+00,  1.06103754e+00,\n",
       "        1.15935969e+00, -6.28344715e-02, -6.44562304e-01, -1.30466968e-01,\n",
       "        7.17003405e-01, -9.34351981e-01,  1.57684311e-01,  1.39414191e+00,\n",
       "       -1.55128384e+00,  1.29093862e+00, -1.00338387e+00, -3.34369874e+00,\n",
       "        9.63430882e-01,  3.26154470e-01, -3.66838351e-02, -1.54386711e+00,\n",
       "        6.11291051e-01, -3.62257898e-01,  1.09795833e+00,  1.64526093e+00,\n",
       "        2.73817778e-03, -3.38081606e-02,  1.24219441e+00, -2.27695346e+00,\n",
       "       -5.41662872e-01, -2.55753994e-01,  8.37883353e-01,  5.52775204e-01,\n",
       "        4.60804224e-01,  5.69246531e-01,  6.04159832e-01,  2.69762248e-01,\n",
       "        5.95691264e-01, -1.32518134e-03,  6.06130838e-01, -5.87025225e-01,\n",
       "        7.52696276e-01, -9.91011381e-01,  7.38178864e-02, -4.04879102e-04],\n",
       "      dtype=float32)"
      ]
     },
     "execution_count": 172,
     "metadata": {},
     "output_type": "execute_result"
    }
   ],
   "source": [
    "import os\n",
    "#from gensim.models import KeyedVectors\n",
    "import gensim\n",
    "word2vec_path = os.getenv('HOME')+'/aiffel/Exp07_sentiment_classification/data/ko.bin'\n",
    "word2vec = gensim.models.Word2Vec.load(word2vec_path)\n",
    "vector = word2vec['행복']\n",
    "vector "
   ]
  },
  {
   "cell_type": "code",
   "execution_count": 173,
   "id": "juvenile-divorce",
   "metadata": {},
   "outputs": [
    {
     "data": {
      "text/plain": [
       "(200,)"
      ]
     },
     "execution_count": 173,
     "metadata": {},
     "output_type": "execute_result"
    }
   ],
   "source": [
    "vector.shape"
   ]
  },
  {
   "cell_type": "markdown",
   "id": "normal-thunder",
   "metadata": {},
   "source": [
    "#### anlaysis : 한글 임베딩 모델은 200차원의 임베딩 값으로 구성되어 있다. "
   ]
  },
  {
   "cell_type": "code",
   "execution_count": 149,
   "id": "diverse-fitness",
   "metadata": {},
   "outputs": [
    {
     "data": {
      "text/plain": [
       "[('슬픔', 0.7216662764549255),\n",
       " ('행복', 0.6759077310562134),\n",
       " ('절망', 0.6468985080718994),\n",
       " ('기쁨', 0.6458414196968079),\n",
       " ('이별', 0.6334798336029053),\n",
       " ('추억', 0.6320937275886536),\n",
       " ('인생', 0.6216273307800293),\n",
       " ('애정', 0.6206069588661194),\n",
       " ('연인', 0.6186063289642334),\n",
       " ('유혹', 0.5965287685394287)]"
      ]
     },
     "execution_count": 149,
     "metadata": {},
     "output_type": "execute_result"
    }
   ],
   "source": [
    "word2vec.wv.most_similar(\"사랑\")"
   ]
  },
  {
   "cell_type": "markdown",
   "id": "parental-domain",
   "metadata": {},
   "source": [
    "#### analysis : 한글 ko.bin 임베딩 모델을 이용하였을 때 사랑을 검색해본 결과 유사성은 자체 학습된 임베딩의 결과보다 훨씬 성능이 좋아보인다. 슬픔, 행복, 절망, 기쁨 등 사랑과 관련된 감정의 상태의 단어들을 출력해주었고 이는 댓글의 긍정성과 부정성의 성향을 나누는데 모델의 학습률을 개선시켜줄 것으로 기대된다."
   ]
  },
  {
   "cell_type": "markdown",
   "id": "identical-faculty",
   "metadata": {},
   "source": [
    "## work(8) : applying korean lan embedding model to machine learning\n",
    "\n",
    "한국어 word2vec을 이용하여 앞서 진행했던 모델의 임베딩 레이어에 새로 적용하여 모델의 성능이 얼마나 개선되었는지 모델별로 비교해볼 것이다.\n",
    "(work(8)은 한글 word2vec의 임베딩 모델을 뉴럴 네트워크에 쌓아 작동하는지 시험해보는 과정이다. 앞선 모델과의 비교용도가 아님을 미리 밝힌다.)"
   ]
  },
  {
   "cell_type": "markdown",
   "id": "valued-therapy",
   "metadata": {},
   "source": [
    "### work(8) - 1 : getting embedding"
   ]
  },
  {
   "cell_type": "code",
   "execution_count": 195,
   "id": "going-tuition",
   "metadata": {},
   "outputs": [
    {
     "name": "stderr",
     "output_type": "stream",
     "text": [
      "/opt/conda/lib/python3.7/site-packages/ipykernel_launcher.py:7: DeprecationWarning: Call to deprecated `__contains__` (Method will be removed in 4.0.0, use self.wv.__contains__() instead).\n",
      "  import sys\n",
      "/opt/conda/lib/python3.7/site-packages/ipykernel_launcher.py:8: DeprecationWarning: Call to deprecated `__getitem__` (Method will be removed in 4.0.0, use self.wv.__getitem__() instead).\n",
      "  \n"
     ]
    }
   ],
   "source": [
    "vocab_size_ko = 10000    # 어휘 사전의 크기입니다(10,000개의 단어)\n",
    "word_vector_dim_ko = 200  # 워드 벡터의 차원수\n",
    "embedding_matrix = np.random.rand(vocab_size_ko, word_vector_dim_ko)\n",
    "\n",
    "# embedding_matrix에 Word2Vec 워드 벡터를 단어 하나씩마다 차례차례 카피한다.\n",
    "for i in range(4,vocab_size_ko):\n",
    "    if index_to_word[i] in word2vec:\n",
    "        embedding_matrix[i] = word2vec[index_to_word[i]]"
   ]
  },
  {
   "cell_type": "markdown",
   "id": "derived-batch",
   "metadata": {},
   "source": [
    "### work(8) - 2 : applying of embedding matrix(korean word2vec)\n",
    "\n"
   ]
  },
  {
   "cell_type": "code",
   "execution_count": 187,
   "id": "owned-stadium",
   "metadata": {
    "scrolled": true
   },
   "outputs": [
    {
     "name": "stdout",
     "output_type": "stream",
     "text": [
      "Model: \"sequential_17\"\n",
      "_________________________________________________________________\n",
      "Layer (type)                 Output Shape              Param #   \n",
      "=================================================================\n",
      "embedding_17 (Embedding)     (None, 41, 200)           2000000   \n",
      "_________________________________________________________________\n",
      "conv1d_12 (Conv1D)           (None, 35, 16)            22416     \n",
      "_________________________________________________________________\n",
      "max_pooling1d_4 (MaxPooling1 (None, 7, 16)             0         \n",
      "_________________________________________________________________\n",
      "conv1d_13 (Conv1D)           (None, 1, 16)             1808      \n",
      "_________________________________________________________________\n",
      "global_max_pooling1d_10 (Glo (None, 16)                0         \n",
      "_________________________________________________________________\n",
      "dense_28 (Dense)             (None, 8)                 136       \n",
      "_________________________________________________________________\n",
      "dense_29 (Dense)             (None, 1)                 9         \n",
      "=================================================================\n",
      "Total params: 2,024,369\n",
      "Trainable params: 2,024,369\n",
      "Non-trainable params: 0\n",
      "_________________________________________________________________\n"
     ]
    }
   ],
   "source": [
    "from tensorflow.keras.initializers import Constant\n",
    "\n",
    "# 모델 구성\n",
    "model_ko = keras.Sequential()\n",
    "model_ko.add(keras.layers.Embedding(vocab_size_ko, \n",
    "                                 word_vector_dim_ko, \n",
    "                                 embeddings_initializer=Constant(embedding_matrix),  # 카피한 임베딩을 여기서 활용\n",
    "                                 input_length=maxlen, \n",
    "                                 trainable=True))   # trainable을 True로 주면 Fine-tuning\n",
    "model_ko.add(keras.layers.Conv1D(16, 7, activation='relu'))\n",
    "model_ko.add(keras.layers.MaxPooling1D(5))\n",
    "model_ko.add(keras.layers.Conv1D(16, 7, activation='relu'))\n",
    "model_ko.add(keras.layers.GlobalMaxPooling1D())\n",
    "model_ko.add(keras.layers.Dense(8, activation='relu'))\n",
    "model_ko.add(keras.layers.Dense(1, activation='sigmoid')) \n",
    "\n",
    "model_ko.summary()"
   ]
  },
  {
   "cell_type": "code",
   "execution_count": 188,
   "id": "disciplinary-decade",
   "metadata": {},
   "outputs": [
    {
     "name": "stdout",
     "output_type": "stream",
     "text": [
      "Epoch 1/20\n",
      "200/200 [==============================] - 12s 48ms/step - loss: 0.6621 - accuracy: 0.6040 - val_loss: 0.4628 - val_accuracy: 0.7855\n",
      "Epoch 2/20\n",
      "200/200 [==============================] - 7s 33ms/step - loss: 0.4247 - accuracy: 0.8065 - val_loss: 0.3924 - val_accuracy: 0.8254\n",
      "Epoch 3/20\n",
      "200/200 [==============================] - 7s 33ms/step - loss: 0.3500 - accuracy: 0.8484 - val_loss: 0.3686 - val_accuracy: 0.8375\n",
      "Epoch 4/20\n",
      "200/200 [==============================] - 7s 33ms/step - loss: 0.3032 - accuracy: 0.8720 - val_loss: 0.3624 - val_accuracy: 0.8435\n",
      "Epoch 5/20\n",
      "200/200 [==============================] - 7s 34ms/step - loss: 0.2675 - accuracy: 0.8903 - val_loss: 0.3667 - val_accuracy: 0.8436\n",
      "Epoch 6/20\n",
      "200/200 [==============================] - 7s 33ms/step - loss: 0.2374 - accuracy: 0.9057 - val_loss: 0.3809 - val_accuracy: 0.8411\n",
      "Epoch 7/20\n",
      "200/200 [==============================] - 7s 34ms/step - loss: 0.2144 - accuracy: 0.9182 - val_loss: 0.4000 - val_accuracy: 0.8407\n",
      "Epoch 8/20\n",
      "200/200 [==============================] - 7s 34ms/step - loss: 0.1924 - accuracy: 0.9287 - val_loss: 0.4234 - val_accuracy: 0.8372\n",
      "Epoch 9/20\n",
      "200/200 [==============================] - 7s 34ms/step - loss: 0.1684 - accuracy: 0.9389 - val_loss: 0.4476 - val_accuracy: 0.8377\n",
      "Epoch 10/20\n",
      "200/200 [==============================] - 7s 34ms/step - loss: 0.1486 - accuracy: 0.9467 - val_loss: 0.4699 - val_accuracy: 0.8352\n",
      "Epoch 11/20\n",
      "200/200 [==============================] - 7s 34ms/step - loss: 0.1305 - accuracy: 0.9552 - val_loss: 0.5139 - val_accuracy: 0.8335\n",
      "Epoch 12/20\n",
      "200/200 [==============================] - 7s 33ms/step - loss: 0.1123 - accuracy: 0.9629 - val_loss: 0.5557 - val_accuracy: 0.8297\n",
      "Epoch 13/20\n",
      "200/200 [==============================] - 7s 33ms/step - loss: 0.0966 - accuracy: 0.9681 - val_loss: 0.5896 - val_accuracy: 0.8277\n",
      "Epoch 14/20\n",
      "200/200 [==============================] - 7s 33ms/step - loss: 0.0846 - accuracy: 0.9736 - val_loss: 0.6398 - val_accuracy: 0.8252\n",
      "Epoch 15/20\n",
      "200/200 [==============================] - 7s 33ms/step - loss: 0.0760 - accuracy: 0.9750 - val_loss: 0.7020 - val_accuracy: 0.8246\n",
      "Epoch 16/20\n",
      "200/200 [==============================] - 7s 33ms/step - loss: 0.0687 - accuracy: 0.9788 - val_loss: 0.7284 - val_accuracy: 0.8251\n",
      "Epoch 17/20\n",
      "200/200 [==============================] - 7s 33ms/step - loss: 0.0640 - accuracy: 0.9801 - val_loss: 0.7660 - val_accuracy: 0.8268\n",
      "Epoch 18/20\n",
      "200/200 [==============================] - 6s 32ms/step - loss: 0.0518 - accuracy: 0.9845 - val_loss: 0.8010 - val_accuracy: 0.8238\n",
      "Epoch 19/20\n",
      "200/200 [==============================] - 7s 33ms/step - loss: 0.0496 - accuracy: 0.9852 - val_loss: 0.8651 - val_accuracy: 0.8230\n",
      "Epoch 20/20\n",
      "200/200 [==============================] - 7s 33ms/step - loss: 0.0458 - accuracy: 0.9861 - val_loss: 0.8410 - val_accuracy: 0.8235\n"
     ]
    }
   ],
   "source": [
    "model_ko.compile(optimizer='adam',\n",
    "              loss='binary_crossentropy',\n",
    "              metrics=['accuracy'])\n",
    "              \n",
    "epochs=20  # 몇 epoch를 훈련하면 좋을지 결과를 보면서 바꾸어 봅시다. \n",
    "\n",
    "history = model_ko.fit(partial_x_train,\n",
    "                    partial_y_train,\n",
    "                    epochs=epochs,\n",
    "                    batch_size=512,\n",
    "                    validation_data=(x_val, y_val),\n",
    "                    verbose=1)"
   ]
  },
  {
   "cell_type": "code",
   "execution_count": 190,
   "id": "impossible-effectiveness",
   "metadata": {},
   "outputs": [
    {
     "name": "stdout",
     "output_type": "stream",
     "text": [
      "1537/1537 - 5s - loss: 0.8646 - accuracy: 0.8205\n",
      "[0.8646066188812256, 0.8204935193061829]\n"
     ]
    }
   ],
   "source": [
    "results = model_ko.evaluate(X_test,  y_test, verbose=2)\n",
    "\n",
    "print(results)"
   ]
  },
  {
   "cell_type": "code",
   "execution_count": 191,
   "id": "mexican-unknown",
   "metadata": {},
   "outputs": [
    {
     "name": "stdout",
     "output_type": "stream",
     "text": [
      "dict_keys(['loss', 'accuracy', 'val_loss', 'val_accuracy'])\n"
     ]
    },
    {
     "data": {
      "image/png": "[encoded data removed]",
      "text/plain": [
       "<Figure size 432x288 with 1 Axes>"
      ]
     },
     "metadata": {
      "needs_background": "light"
     },
     "output_type": "display_data"
    },
    {
     "data": {
      "image/png": "[encoded data removed]",
      "text/plain": [
       "<Figure size 432x288 with 1 Axes>"
      ]
     },
     "metadata": {
      "needs_background": "light"
     },
     "output_type": "display_data"
    }
   ],
   "source": [
    "history_dict = history.history\n",
    "print(history_dict.keys()) # epoch에 따른 그래프를 그려볼 수 있는 항목들\n",
    "    \n",
    "acc = history_dict['accuracy']\n",
    "val_acc = history_dict['val_accuracy']\n",
    "loss = history_dict['loss']\n",
    "val_loss = history_dict['val_loss']\n",
    "\n",
    "epochs = range(1, len(acc) + 1)\n",
    "\n",
    "# \"bo\"는 \"파란색 점\"입니다\n",
    "plt.plot(epochs, loss, 'bo', label='Training loss')\n",
    "# b는 \"파란 실선\"입니다\n",
    "plt.plot(epochs, val_loss, 'b', label='Validation loss')\n",
    "plt.title('Training and validation loss '+model_name)\n",
    "plt.xlabel('Epochs')\n",
    "plt.ylabel('Loss')\n",
    "plt.legend()\n",
    "\n",
    "plt.show()\n",
    "\n",
    "    \n",
    "plt.clf()   # 그림을 초기화합니다\n",
    "\n",
    "plt.plot(epochs, acc, 'bo', label='Training acc')\n",
    "plt.plot(epochs, val_acc, 'b', label='Validation acc')\n",
    "plt.title('Training and validation accuracy '+ model_name)\n",
    "plt.xlabel('Epochs')\n",
    "plt.ylabel('Accuracy')\n",
    "plt.legend()\n",
    "\n",
    "plt.show()"
   ]
  },
  {
   "cell_type": "markdown",
   "id": "concerned-incident",
   "metadata": {},
   "source": [
    "## work(9) : applying ko_word2vec : model design && model trainning && model evaluationnn"
   ]
  },
  {
   "cell_type": "code",
   "execution_count": 198,
   "id": "fewer-employer",
   "metadata": {},
   "outputs": [
    {
     "name": "stdout",
     "output_type": "stream",
     "text": [
      "Model: \"sequential_18\"\n",
      "_________________________________________________________________\n",
      "Layer (type)                 Output Shape              Param #   \n",
      "=================================================================\n",
      "embedding_18 (Embedding)     (None, None, 2300)        23000000  \n",
      "_________________________________________________________________\n",
      "global_max_pooling1d_11 (Glo (None, 2300)              0         \n",
      "_________________________________________________________________\n",
      "dense_30 (Dense)             (None, 8)                 18408     \n",
      "_________________________________________________________________\n",
      "dense_31 (Dense)             (None, 1)                 9         \n",
      "=================================================================\n",
      "Total params: 23,018,417\n",
      "Trainable params: 23,018,417\n",
      "Non-trainable params: 0\n",
      "_________________________________________________________________\n"
     ]
    }
   ],
   "source": [
    "\n",
    "## 한글 word2vec이 적용된 새로운 모델 디자인 : globalmax based on ko_word2vec\n",
    "model_max_ko = keras.Sequential()\n",
    "model_max_ko.add(keras.layers.Embedding(vocab_size, word_vector_dim, input_shape=(None,)))\n",
    "model_max_ko.add(keras.layers.GlobalMaxPooling1D())\n",
    "model_max_ko.add(keras.layers.Dense(8, activation='relu'))\n",
    "model_max_ko.add(keras.layers.Dense(1, activation='sigmoid'))  # 최종 출력은 긍정/부정을 나타내는 1dim 입니다.\n",
    "\n",
    "\n",
    "model_max_ko.summary()"
   ]
  },
  {
   "cell_type": "code",
   "execution_count": 199,
   "id": "artificial-armenia",
   "metadata": {},
   "outputs": [
    {
     "name": "stdout",
     "output_type": "stream",
     "text": [
      "Model: \"sequential_19\"\n",
      "_________________________________________________________________\n",
      "Layer (type)                 Output Shape              Param #   \n",
      "=================================================================\n",
      "embedding_19 (Embedding)     (None, None, 2300)        23000000  \n",
      "_________________________________________________________________\n",
      "conv1d_14 (Conv1D)           (None, None, 16)          257616    \n",
      "_________________________________________________________________\n",
      "max_pooling1d_5 (MaxPooling1 (None, None, 16)          0         \n",
      "_________________________________________________________________\n",
      "conv1d_15 (Conv1D)           (None, None, 16)          1808      \n",
      "_________________________________________________________________\n",
      "global_max_pooling1d_12 (Glo (None, 16)                0         \n",
      "_________________________________________________________________\n",
      "dense_32 (Dense)             (None, 8)                 136       \n",
      "_________________________________________________________________\n",
      "dense_33 (Dense)             (None, 1)                 9         \n",
      "=================================================================\n",
      "Total params: 23,259,569\n",
      "Trainable params: 23,259,569\n",
      "Non-trainable params: 0\n",
      "_________________________________________________________________\n"
     ]
    }
   ],
   "source": [
    "## 한글 word2vec이 적용된 새로운 모델 디자인 : combination of conv1d and maxpool based on ko_word2vec\n",
    "model_comb_ko = keras.Sequential()\n",
    "model_comb_ko.add(keras.layers.Embedding(vocab_size, word_vector_dim, input_shape=(None,)))\n",
    "model_comb_ko.add(keras.layers.Conv1D(16, 7, activation='relu'))\n",
    "model_comb_ko.add(keras.layers.MaxPooling1D(5))\n",
    "model_comb_ko.add(keras.layers.Conv1D(16, 7, activation='relu'))\n",
    "model_comb_ko.add(keras.layers.GlobalMaxPooling1D())\n",
    "model_comb_ko.add(keras.layers.Dense(8, activation='relu'))\n",
    "model_comb_ko.add(keras.layers.Dense(1, activation='sigmoid'))  # 최종 출력은 긍정/부정을 나타내는 1dim 입니다.\n",
    "\n",
    "model_comb_ko.summary()"
   ]
  },
  {
   "cell_type": "code",
   "execution_count": 200,
   "id": "aquatic-effect",
   "metadata": {},
   "outputs": [
    {
     "name": "stdout",
     "output_type": "stream",
     "text": [
      "Model: \"sequential_20\"\n",
      "_________________________________________________________________\n",
      "Layer (type)                 Output Shape              Param #   \n",
      "=================================================================\n",
      "embedding_20 (Embedding)     (None, None, 2300)        23000000  \n",
      "_________________________________________________________________\n",
      "lstm_3 (LSTM)                (None, 8)                 73888     \n",
      "_________________________________________________________________\n",
      "dense_34 (Dense)             (None, 8)                 72        \n",
      "_________________________________________________________________\n",
      "dense_35 (Dense)             (None, 1)                 9         \n",
      "=================================================================\n",
      "Total params: 23,073,969\n",
      "Trainable params: 23,073,969\n",
      "Non-trainable params: 0\n",
      "_________________________________________________________________\n"
     ]
    }
   ],
   "source": [
    "model_RNN_ko = keras.Sequential()\n",
    "model_RNN_ko.add(keras.layers.Embedding(vocab_size, word_vector_dim, input_shape=(None,)))\n",
    "model_RNN_ko.add(keras.layers.LSTM(8))   # 가장 널리 쓰이는 RNN인 LSTM 레이어를 사용하였습니다. 이때 LSTM state 벡터의 차원수는 8로 하였습니다. (변경 가능)\n",
    "model_RNN_ko.add(keras.layers.Dense(8, activation='relu'))\n",
    "model_RNN_ko.add(keras.layers.Dense(1, activation='sigmoid'))  # 최종 출력은 긍정/부정을 나타내는 1dim 입니다.\n",
    "\n",
    "model_RNN_ko.summary()"
   ]
  },
  {
   "cell_type": "code",
   "execution_count": 201,
   "id": "democratic-fantasy",
   "metadata": {},
   "outputs": [
    {
     "name": "stdout",
     "output_type": "stream",
     "text": [
      "Epoch 1/20\n",
      "200/200 [==============================] - 76s 375ms/step - loss: 0.6188 - accuracy: 0.6612 - val_loss: 0.4865 - val_accuracy: 0.8412\n",
      "Epoch 2/20\n",
      "200/200 [==============================] - 75s 377ms/step - loss: 0.4479 - accuracy: 0.8661 - val_loss: 0.3431 - val_accuracy: 0.8511\n",
      "Epoch 3/20\n",
      "200/200 [==============================] - 75s 375ms/step - loss: 0.2645 - accuracy: 0.8985 - val_loss: 0.3417 - val_accuracy: 0.8547\n",
      "Epoch 4/20\n",
      "200/200 [==============================] - 75s 376ms/step - loss: 0.1978 - accuracy: 0.9293 - val_loss: 0.3670 - val_accuracy: 0.8533\n",
      "Epoch 5/20\n",
      "200/200 [==============================] - 75s 375ms/step - loss: 0.1331 - accuracy: 0.9574 - val_loss: 0.4099 - val_accuracy: 0.8505\n",
      "Epoch 6/20\n",
      "200/200 [==============================] - 75s 375ms/step - loss: 0.0752 - accuracy: 0.9806 - val_loss: 0.4569 - val_accuracy: 0.8487\n",
      "Epoch 7/20\n",
      "200/200 [==============================] - 75s 376ms/step - loss: 0.0391 - accuracy: 0.9908 - val_loss: 0.5180 - val_accuracy: 0.8493\n",
      "Epoch 8/20\n",
      "200/200 [==============================] - 75s 375ms/step - loss: 0.0218 - accuracy: 0.9946 - val_loss: 0.5638 - val_accuracy: 0.8505\n",
      "Epoch 9/20\n",
      "200/200 [==============================] - 75s 374ms/step - loss: 0.0139 - accuracy: 0.9958 - val_loss: 0.6040 - val_accuracy: 0.8486\n",
      "Epoch 10/20\n",
      "200/200 [==============================] - 75s 373ms/step - loss: 0.0101 - accuracy: 0.9965 - val_loss: 0.6354 - val_accuracy: 0.8490\n",
      "Epoch 11/20\n",
      "200/200 [==============================] - 74s 372ms/step - loss: 0.0086 - accuracy: 0.9967 - val_loss: 0.6641 - val_accuracy: 0.8507\n",
      "Epoch 12/20\n",
      "200/200 [==============================] - 75s 374ms/step - loss: 0.0075 - accuracy: 0.9967 - val_loss: 0.6888 - val_accuracy: 0.8523\n",
      "Epoch 13/20\n",
      "200/200 [==============================] - 75s 373ms/step - loss: 0.0067 - accuracy: 0.9969 - val_loss: 0.7122 - val_accuracy: 0.8496\n",
      "Epoch 14/20\n",
      "200/200 [==============================] - 75s 375ms/step - loss: 0.0057 - accuracy: 0.9974 - val_loss: 0.7300 - val_accuracy: 0.8501\n",
      "Epoch 15/20\n",
      "200/200 [==============================] - 76s 380ms/step - loss: 0.0058 - accuracy: 0.9969 - val_loss: 0.7518 - val_accuracy: 0.8501\n",
      "Epoch 16/20\n",
      "200/200 [==============================] - 75s 374ms/step - loss: 0.0052 - accuracy: 0.9973 - val_loss: 0.7695 - val_accuracy: 0.8501\n",
      "Epoch 17/20\n",
      "200/200 [==============================] - 74s 373ms/step - loss: 0.0051 - accuracy: 0.9974 - val_loss: 0.7838 - val_accuracy: 0.8503\n",
      "Epoch 18/20\n",
      "200/200 [==============================] - 75s 373ms/step - loss: 0.0046 - accuracy: 0.9977 - val_loss: 0.7968 - val_accuracy: 0.8494\n",
      "Epoch 19/20\n",
      "200/200 [==============================] - 75s 373ms/step - loss: 0.0052 - accuracy: 0.9972 - val_loss: 0.8166 - val_accuracy: 0.8484\n",
      "Epoch 20/20\n",
      "200/200 [==============================] - 75s 374ms/step - loss: 0.0052 - accuracy: 0.9972 - val_loss: 0.8348 - val_accuracy: 0.8497\n",
      "Epoch 1/20\n",
      "200/200 [==============================] - 83s 404ms/step - loss: 0.5278 - accuracy: 0.7145 - val_loss: 0.3331 - val_accuracy: 0.8549\n",
      "Epoch 2/20\n",
      "200/200 [==============================] - 77s 388ms/step - loss: 0.2827 - accuracy: 0.8849 - val_loss: 0.3288 - val_accuracy: 0.8592\n",
      "Epoch 3/20\n",
      "200/200 [==============================] - 78s 389ms/step - loss: 0.1825 - accuracy: 0.9331 - val_loss: 0.3732 - val_accuracy: 0.8510\n",
      "Epoch 4/20\n",
      "200/200 [==============================] - 77s 388ms/step - loss: 0.1042 - accuracy: 0.9646 - val_loss: 0.4722 - val_accuracy: 0.8453\n",
      "Epoch 5/20\n",
      "200/200 [==============================] - 77s 388ms/step - loss: 0.0630 - accuracy: 0.9792 - val_loss: 0.5789 - val_accuracy: 0.8375\n",
      "Epoch 6/20\n",
      "200/200 [==============================] - 78s 388ms/step - loss: 0.0414 - accuracy: 0.9861 - val_loss: 0.6812 - val_accuracy: 0.8385\n",
      "Epoch 7/20\n",
      "200/200 [==============================] - 77s 386ms/step - loss: 0.0310 - accuracy: 0.9896 - val_loss: 0.7496 - val_accuracy: 0.8394\n",
      "Epoch 8/20\n",
      "200/200 [==============================] - 78s 389ms/step - loss: 0.0282 - accuracy: 0.9901 - val_loss: 0.8148 - val_accuracy: 0.8370\n",
      "Epoch 9/20\n",
      "200/200 [==============================] - 78s 389ms/step - loss: 0.0266 - accuracy: 0.9908 - val_loss: 0.8917 - val_accuracy: 0.8345\n",
      "Epoch 10/20\n",
      "200/200 [==============================] - 78s 389ms/step - loss: 0.0288 - accuracy: 0.9896 - val_loss: 0.8665 - val_accuracy: 0.8349\n",
      "Epoch 11/20\n",
      "200/200 [==============================] - 78s 390ms/step - loss: 0.0293 - accuracy: 0.9890 - val_loss: 0.8708 - val_accuracy: 0.8322\n",
      "Epoch 12/20\n",
      "200/200 [==============================] - 78s 389ms/step - loss: 0.0208 - accuracy: 0.9927 - val_loss: 0.9586 - val_accuracy: 0.8306\n",
      "Epoch 13/20\n",
      "200/200 [==============================] - 78s 388ms/step - loss: 0.0149 - accuracy: 0.9944 - val_loss: 0.9858 - val_accuracy: 0.8341\n",
      "Epoch 14/20\n",
      "200/200 [==============================] - 78s 389ms/step - loss: 0.0115 - accuracy: 0.9957 - val_loss: 1.1249 - val_accuracy: 0.8323\n",
      "Epoch 15/20\n",
      "200/200 [==============================] - 78s 389ms/step - loss: 0.0107 - accuracy: 0.9958 - val_loss: 1.2132 - val_accuracy: 0.8320\n",
      "Epoch 16/20\n",
      "200/200 [==============================] - 79s 394ms/step - loss: 0.0125 - accuracy: 0.9950 - val_loss: 1.1021 - val_accuracy: 0.8329\n",
      "Epoch 17/20\n",
      "200/200 [==============================] - 78s 389ms/step - loss: 0.0192 - accuracy: 0.9928 - val_loss: 1.0520 - val_accuracy: 0.8321\n",
      "Epoch 18/20\n",
      "200/200 [==============================] - 77s 387ms/step - loss: 0.0204 - accuracy: 0.9922 - val_loss: 1.0644 - val_accuracy: 0.8344\n",
      "Epoch 19/20\n",
      "200/200 [==============================] - 78s 391ms/step - loss: 0.0164 - accuracy: 0.9939 - val_loss: 1.1063 - val_accuracy: 0.8341\n",
      "Epoch 20/20\n",
      "200/200 [==============================] - 78s 388ms/step - loss: 0.0116 - accuracy: 0.9951 - val_loss: 1.1586 - val_accuracy: 0.8316\n",
      "Epoch 1/20\n",
      "200/200 [==============================] - 78s 382ms/step - loss: 0.5286 - accuracy: 0.7471 - val_loss: 0.3520 - val_accuracy: 0.8517\n",
      "Epoch 2/20\n",
      "200/200 [==============================] - 76s 379ms/step - loss: 0.3102 - accuracy: 0.8733 - val_loss: 0.3393 - val_accuracy: 0.8539\n",
      "Epoch 3/20\n",
      "200/200 [==============================] - 76s 381ms/step - loss: 0.2544 - accuracy: 0.8976 - val_loss: 0.3445 - val_accuracy: 0.8540\n",
      "Epoch 4/20\n",
      "200/200 [==============================] - 76s 382ms/step - loss: 0.2101 - accuracy: 0.9186 - val_loss: 0.3606 - val_accuracy: 0.8523\n",
      "Epoch 5/20\n",
      "200/200 [==============================] - 77s 384ms/step - loss: 0.1832 - accuracy: 0.9296 - val_loss: 0.3989 - val_accuracy: 0.8508\n",
      "Epoch 6/20\n",
      "200/200 [==============================] - 76s 380ms/step - loss: 0.1536 - accuracy: 0.9436 - val_loss: 0.4271 - val_accuracy: 0.8498\n",
      "Epoch 7/20\n",
      "200/200 [==============================] - 77s 387ms/step - loss: 0.1363 - accuracy: 0.9501 - val_loss: 0.4589 - val_accuracy: 0.8470\n",
      "Epoch 8/20\n",
      "200/200 [==============================] - 76s 381ms/step - loss: 0.1186 - accuracy: 0.9573 - val_loss: 0.4893 - val_accuracy: 0.8431\n",
      "Epoch 9/20\n",
      "200/200 [==============================] - 76s 380ms/step - loss: 0.1044 - accuracy: 0.9630 - val_loss: 0.5151 - val_accuracy: 0.8432\n",
      "Epoch 10/20\n",
      "200/200 [==============================] - 76s 381ms/step - loss: 0.0965 - accuracy: 0.9668 - val_loss: 0.5412 - val_accuracy: 0.8412\n",
      "Epoch 11/20\n",
      "200/200 [==============================] - 76s 382ms/step - loss: 0.0888 - accuracy: 0.9693 - val_loss: 0.5652 - val_accuracy: 0.8393\n",
      "Epoch 12/20\n",
      "200/200 [==============================] - 77s 384ms/step - loss: 0.0792 - accuracy: 0.9726 - val_loss: 0.5905 - val_accuracy: 0.8382\n",
      "Epoch 13/20\n",
      "200/200 [==============================] - 76s 382ms/step - loss: 0.0785 - accuracy: 0.9723 - val_loss: 0.6256 - val_accuracy: 0.8358\n",
      "Epoch 14/20\n",
      "200/200 [==============================] - 76s 381ms/step - loss: 0.0702 - accuracy: 0.9765 - val_loss: 0.6517 - val_accuracy: 0.8360\n",
      "Epoch 15/20\n",
      "200/200 [==============================] - 76s 381ms/step - loss: 0.0645 - accuracy: 0.9779 - val_loss: 0.6557 - val_accuracy: 0.8365\n",
      "Epoch 16/20\n",
      "200/200 [==============================] - 77s 387ms/step - loss: 0.0623 - accuracy: 0.9789 - val_loss: 0.7110 - val_accuracy: 0.8347\n",
      "Epoch 17/20\n",
      "200/200 [==============================] - 77s 383ms/step - loss: 0.0561 - accuracy: 0.9813 - val_loss: 0.7146 - val_accuracy: 0.8359\n",
      "Epoch 18/20\n",
      "200/200 [==============================] - 76s 378ms/step - loss: 0.0570 - accuracy: 0.9806 - val_loss: 0.7441 - val_accuracy: 0.8355\n",
      "Epoch 19/20\n",
      "200/200 [==============================] - 76s 381ms/step - loss: 0.0557 - accuracy: 0.9811 - val_loss: 0.7348 - val_accuracy: 0.8313\n",
      "Epoch 20/20\n",
      "200/200 [==============================] - 77s 384ms/step - loss: 0.0532 - accuracy: 0.9829 - val_loss: 0.7850 - val_accuracy: 0.8327\n"
     ]
    }
   ],
   "source": [
    "history_max_ko = model_trainning(model_max_ko,partial_x_train,partial_y_train,x_val, y_val)\n",
    "history_comb_ko = model_trainning(model_comb_ko,partial_x_train,partial_y_train,x_val, y_val)\n",
    "history_RNN_ko = model_trainning(model_RNN_ko,partial_x_train,partial_y_train,x_val, y_val)\n",
    "\n",
    "      "
   ]
  },
  {
   "cell_type": "code",
   "execution_count": 202,
   "id": "stylish-jefferson",
   "metadata": {},
   "outputs": [
    {
     "name": "stdout",
     "output_type": "stream",
     "text": [
      "1537/1537 - 5s - loss: 0.8506 - accuracy: 0.8454\n",
      "model max ko version :  [0.8506183624267578, 0.8453526496887207]\n",
      "1537/1537 - 10s - loss: 1.2145 - accuracy: 0.8267\n",
      "model comb ko version :  [1.2144966125488281, 0.8267184495925903]\n",
      "1537/1537 - 9s - loss: 0.7975 - accuracy: 0.8291\n",
      "model RNN ko version :  [0.797534167766571, 0.8290579319000244]\n"
     ]
    }
   ],
   "source": [
    "print('model max ko version : ',model_evaluation(model_max_ko))\n",
    "print('model comb ko version : ',model_evaluation(model_comb_ko))\n",
    "print('model RNN ko version : ',model_evaluation(model_RNN_ko))\n",
    "\n",
    "                                     "
   ]
  },
  {
   "cell_type": "code",
   "execution_count": 203,
   "id": "least-elite",
   "metadata": {},
   "outputs": [
    {
     "name": "stdout",
     "output_type": "stream",
     "text": [
      "dict_keys(['loss', 'accuracy', 'val_loss', 'val_accuracy'])\n"
     ]
    },
    {
     "data": {
      "image/png": "[encoded data removed]",
      "text/plain": [
       "<Figure size 432x288 with 1 Axes>"
      ]
     },
     "metadata": {
      "needs_background": "light"
     },
     "output_type": "display_data"
    },
    {
     "data": {
      "image/png": "[encoded data removed]",
      "text/plain": [
       "<Figure size 432x288 with 1 Axes>"
      ]
     },
     "metadata": {
      "needs_background": "light"
     },
     "output_type": "display_data"
    },
    {
     "name": "stdout",
     "output_type": "stream",
     "text": [
      "dict_keys(['loss', 'accuracy', 'val_loss', 'val_accuracy'])\n"
     ]
    },
    {
     "data": {
      "image/png": "[encoded data removed]",
      "text/plain": [
       "<Figure size 432x288 with 1 Axes>"
      ]
     },
     "metadata": {
      "needs_background": "light"
     },
     "output_type": "display_data"
    },
    {
     "data": {
      "image/png": "[encoded data removed]",
      "text/plain": [
       "<Figure size 432x288 with 1 Axes>"
      ]
     },
     "metadata": {
      "needs_background": "light"
     },
     "output_type": "display_data"
    },
    {
     "name": "stdout",
     "output_type": "stream",
     "text": [
      "dict_keys(['loss', 'accuracy', 'val_loss', 'val_accuracy'])\n"
     ]
    },
    {
     "data": {
      "image/png": "[encoded data removed]",
      "text/plain": [
       "<Figure size 432x288 with 1 Axes>"
      ]
     },
     "metadata": {
      "needs_background": "light"
     },
     "output_type": "display_data"
    },
    {
     "data": {
      "image/png": "[encoded data removed]",
      "text/plain": [
       "<Figure size 432x288 with 1 Axes>"
      ]
     },
     "metadata": {
      "needs_background": "light"
     },
     "output_type": "display_data"
    }
   ],
   "source": [
    "graphic(history_max_ko,'max model_ko')\n",
    "graphic(history_comb_ko,'comb model_ko')\n",
    "graphic(history_RNN_ko,'RNN model_ko')"
   ]
  },
  {
   "cell_type": "markdown",
   "id": "certain-contract",
   "metadata": {},
   "source": [
    "## Anlalysis\n",
    "\n",
    "머신러닝에 자체 엠베딩 레이어를 쌓아 네이버 댓글을 학습시켰을 때와 word2vec한글을 엠베딩 레이어에 적용시켜 학습했을 때 test 결과는 다음과 같다.\n",
    "\n",
    "| model | 자체 엠베딩 loss | 자체 임베딩 accuracy |word2vec엠베딩 loss |word2vec엠베딩 accuracy |\n",
    "|:-------|:---------|:---------|:------|:------|\n",
    "|maxpooling1D applying | 1.5034 |0.7993 | 0,8506 | 0.8454 |\n",
    "|maxpooling1D&conv1D applying | 1.0722 |0.8161 |1.2145 | 0.8267 |\n",
    "|RNN applying | 0.5445 | 0.8314 | 0.7975 |0,8291 |\n",
    "\n",
    "\n",
    "\n",
    "테스트의 차이는 미비하지만 약간의 변화는 확인하였다. maxpooling1D만 적용한 모델과 convolution1D를 같이 적용한 모델은 test accuracy가 소폭 상승한 결과를 보여주었다. 반면 기대했던 RNN적용한 모델은 오히려 accuracy가 감소하는 결과를 보여주었다. 이러한 결과들에 대해 자체 임베딩과 word2vec을 적용한 임베딩의 차이를 설명하기엔 무리가 있다. 그 이유는 학습 과정에서 validation과 trainning의 loss, accuracy곡선의 격차가 학습의 성공보단 실패에 가깝게 보이기 때문이다. 다만, word2vec을 적용하였을 때 maxpooling에서는 epoch횟수 처음 시작부터 큰 폭을 유지했지만 word2vec을 적용하였을 때 epoch 1에서 7까지 점점 유격이 벌어지는 양상으로 변화가 있었다. 그리고 눈에 띄는 다른 변하는 거의 찾아보기 힘들다. \n"
   ]
  },
  {
   "cell_type": "markdown",
   "id": "wanted-replication",
   "metadata": {},
   "source": [
    "## Conclusion\n",
    "\n",
    "우리가 알아보고자 했던 자체 임베딩 모델과 word2vec 임베딩 모델을 적용하였을 때 모델의 성능개선이 얼마나 잘 이루어졌는지를 파악하는 것은 실패하였다. 예상과 달리 모델의 학습이 성공적으로 잘 수행되지 않았으며 word2vec을 적용하지 않았을 때와 적용했을 때의 차이는 극히 미비하였기 때문이다. 이러한 문제에 대해서 모델의 성능을 개선하기 위한 다른 조치가 필요함을 느끼게 되었다. 언어를 이해할 때 이전의 경험적 기억들을 리콜(recall)하고 적절한 단어들의 유사성을 평가하는 고도의 지적처리에는 RNN 계열의 뉴럴네트워크레이어를 쓴다고 한다. 하지만 RNN은 long term dependency의 문제점을 갖고 있고 보완할 수 있는 알고리즘을 이번 프로젝트에서 적용하지 못했다. 따라서 이번 프로젝트의 실패에 대해서 모델의 성능 개선에 대한 조치와 해결을 통해 얼마나 잘 학습된 모델을 설계하느냐가 우선 과제로 주어져야 한다. 그리고 잘 학습 가능한 모델에 word2vec을 적용할 때와 그렇지 않을 때의 성능변화를 더욱 객관적으로 비교해 볼 수 있을 것이다.\n"
   ]
  }
 ],
 "metadata": {
  "kernelspec": {
   "display_name": "Python 3",
   "language": "python",
   "name": "python3"
  },
  "language_info": {
   "codemirror_mode": {
    "name": "ipython",
    "version": 3
   },
   "file_extension": ".py",
   "mimetype": "text/x-python",
   "name": "python",
   "nbconvert_exporter": "python",
   "pygments_lexer": "ipython3",
   "version": "3.7.9"
  }
 },
 "nbformat": 4,
 "nbformat_minor": 5
}
